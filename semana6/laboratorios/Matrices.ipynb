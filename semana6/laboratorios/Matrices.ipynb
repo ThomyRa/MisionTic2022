{
  "cells": [
    {
      "cell_type": "markdown",
      "metadata": {
        "id": "VixFUc0ixus0"
      },
      "source": [
        "\n",
        "# Laboratorio 6.2\n",
        "Elaborado por Oscar Franco-Bedoya\n",
        "\n",
        "Proyecto Mision TIC 2021\n",
        "\n",
        "# Objetivo\n",
        "En este laboratorio vamos a practicar funciones generales con matrices y busquedas.\n",
        "\n",
        "## Definición y recorridos de matrices"
      ]
    },
    {
      "cell_type": "code",
      "execution_count": 1,
      "metadata": {
        "colab": {
          "base_uri": "https://localhost:8080/"
        },
        "id": "Y4fpuNHJEtXJ",
        "outputId": "e62f0dd1-ac1b-413f-d368-b310c02b2823"
      },
      "outputs": [
        {
          "name": "stdout",
          "output_type": "stream",
          "text": [
            "3\t8\t1\t\n",
            "\n",
            "-1\t4\t7\t\n",
            "\n",
            "3\t2\t0\t\n",
            "\n",
            "9\t12\t65\t\n",
            "\n",
            "------------------\n",
            "3\t8\t1\t\n",
            "\n",
            "-1\t4\t7\t\n",
            "\n",
            "3\t2\t0\t\n",
            "\n",
            "9\t12\t65\t\n",
            "\n"
          ]
        }
      ],
      "source": [
        "M=[[3,8,1],[-1,4,7],[3,2,0],[9,12,65]] # Definición de una matriz M(4x3)\n",
        "\n",
        "def recorrido_filas(M):\n",
        "  for i in range(0,4): # Recorrido por filas\n",
        "    for j in range(0,3):\n",
        "      print(M[i][j], end = '\\t')\n",
        "    print('\\n')\n",
        "\n",
        "\n",
        "def recorrido_columnas(M):\n",
        "  for i in range(0,4): # Recorrido por filas\n",
        "    for j in range(0,3):\n",
        "      print(M[i][j], end = '\\t')\n",
        "    print('\\n')\n",
        "\n",
        "\n",
        "#----------------------------------------------------------------------------\n",
        "recorrido_filas(M)\n",
        "print(\"------------------\")\n",
        "recorrido_columnas(M)\n"
      ]
    },
    {
      "cell_type": "markdown",
      "metadata": {
        "id": "HpJfN4Ntiqdj"
      },
      "source": [
        "# Búsquedas \n",
        "\n",
        "Se presentan dos funciones de búsqueda, unas para listas de valores básicos y otra para listas de tuplas.\n"
      ]
    },
    {
      "cell_type": "code",
      "execution_count": 7,
      "metadata": {
        "id": "ZOMXL0ACiq2-"
      },
      "outputs": [],
      "source": [
        "personas=['1001458257','100225897','10283475','35236587','568745218']\n",
        "\n",
        "# Retorna el índice de un elemento dado\n",
        "def buscar_id_2(id_s):\n",
        "  return personas.index(id_s)\n",
        "\n",
        "\n",
        "# Retorna el índice de un elemento dado de manera segura\n",
        "def buscar_id_segura(id_s):\n",
        "  try:\n",
        "    return personas.index(id_s)\n",
        "  except ValueError:\n",
        "    return None\n",
        "\n",
        "# Búsqueda secuencial de un elemento de la lista\n",
        "def buscar_id(id_s):\n",
        "  for id in personas:\n",
        "    if id==id_s:\n",
        "      return id\n",
        "\n",
        "personas=[('1001458257',True),('100225897',True),('10283475',False),('35236587',True),('568745218',False)]\n",
        "\n",
        "# Búsqueda secuencial de un grupo de elementos de la lista\n",
        "def vacunados():\n",
        "  lista_vacunados=[]\n",
        "  for p in personas:\n",
        "    if p[1]==True:\n",
        "      lista_vacunados.append(p)\n",
        "  return lista_vacunados\n",
        "\n"
      ]
    },
    {
      "cell_type": "markdown",
      "metadata": {
        "id": "kSCAZAl73A7H"
      },
      "source": [
        "# Prueba los métodos anteriores "
      ]
    },
    {
      "cell_type": "code",
      "execution_count": 9,
      "metadata": {
        "id": "QffA8ck53cQ5"
      },
      "outputs": [
        {
          "name": "stdout",
          "output_type": "stream",
          "text": [
            "3\n",
            "None\n",
            "35236587\n"
          ]
        }
      ],
      "source": [
        "# Codifica el algoritmo pincipal aqui\n",
        "personas=['1001458257','100225897','10283475','35236587','568745218']\n",
        "\n",
        "# Retorna el índice de un elemento dado\n",
        "def buscar_id_2(id_s):\n",
        "  return personas.index(id_s)\n",
        "\n",
        "\n",
        "def buscar_id_segura(id_s):\n",
        "  try:\n",
        "    return personas.index(id_s)\n",
        "  except ValueError:\n",
        "    return None\n",
        "  \n",
        "  \n",
        "def buscar_id(id_s):\n",
        "  for id in personas:\n",
        "    if id==id_s:\n",
        "      return id  \n",
        "\n",
        "\n",
        "print(buscar_id_2('35236587'))\n",
        "print(buscar_id_segura('XXXXX'))\n",
        "print(buscar_id('35236587'))\n",
        "\n"
      ]
    },
    {
      "cell_type": "code",
      "execution_count": 11,
      "metadata": {},
      "outputs": [
        {
          "name": "stdout",
          "output_type": "stream",
          "text": [
            "[('1001458257', True), ('100225897', True), ('35236587', True)]\n"
          ]
        }
      ],
      "source": [
        "personas=[('1001458257',True),('100225897',True),('10283475',False),('35236587',True),('568745218',False)]\n",
        "\n",
        "# Búsqueda secuencial de un grupo de elementos de la lista\n",
        "def vacunados():\n",
        "  lista_vacunados=[]\n",
        "  for p in personas:\n",
        "    if p[1]==True:\n",
        "      lista_vacunados.append(p)\n",
        "  return lista_vacunados\n",
        "\n",
        "\n",
        "print(vacunados())"
      ]
    },
    {
      "cell_type": "markdown",
      "metadata": {
        "id": "ibKusmAADFEU"
      },
      "source": [
        "# Entrenador Ajedrez\n",
        "\n",
        "Vamos a realizar una aplicación que muestre los movimientos de las diferentes figuras en un tablero de ajedrez.\n",
        "\n",
        "\n",
        "# Movimiento de la torre\n",
        "La torre se mueve en líneas rectas en las columnas y filas del tablero en donde se encuentre ubicada, sin embargo no puede saltar figuras adversarias o aliadas.\n",
        "\n",
        "Vamos a suponer que el tablero está vacío y que nos dan una posición valida de la torre en el tablero. La función debe mostrar las casillas en las cuales se puede mover la torre.\n",
        "\n"
      ]
    },
    {
      "cell_type": "code",
      "execution_count": 26,
      "metadata": {
        "colab": {
          "base_uri": "https://localhost:8080/"
        },
        "id": "E3zybwOW6T6T",
        "outputId": "491fa082-cac3-47ea-9509-e7657ff63510"
      },
      "outputs": [
        {
          "data": {
            "text/plain": [
              "array([[False, False,  True, False, False, False, False, False],\n",
              "       [False, False,  True, False, False, False, False, False],\n",
              "       [False, False,  True, False, False, False, False, False],\n",
              "       [False, False,  True, False, False, False, False, False],\n",
              "       [ True,  True,  True,  True,  True,  True,  True,  True],\n",
              "       [False, False,  True, False, False, False, False, False],\n",
              "       [False, False,  True, False, False, False, False, False],\n",
              "       [False, False,  True, False, False, False, False, False]])"
            ]
          },
          "execution_count": 26,
          "metadata": {},
          "output_type": "execute_result"
        }
      ],
      "source": [
        "import numpy as np\n",
        "from collections import namedtuple\n",
        "\n",
        "# aprovechamos las funciones de la librería NumPy para crear una matriz de 8 x 8 inicializada en False \n",
        "tablero = np.array([[False] * 8] *8 ) \n",
        "\n",
        "# Definimos una tupla para la posición de la torre\n",
        "PosicionTablero = namedtuple('PosicionTablero', ['f', 'c']) \n",
        "\n",
        "\n",
        "def ataque_torre(tablero, posicion):\n",
        "    \"\"\" \n",
        "    Parameters\n",
        "    ----------\n",
        "    tablero: [[][]] \n",
        "      Matriz de dos dimensiones con valores booleanos en False\n",
        "    posicion: (,) \n",
        "      Tupla con la posición de la torre en el tablero  \n",
        "    Returns\n",
        "    -------\n",
        "    tablero\n",
        "      el tablero con las posiciones validas para el movimiento en True    \n",
        "    \"\"\" \n",
        "    for i in range(8):   #asigna la fila\n",
        "        tablero[posicion.f, i] = True\n",
        "\n",
        "    for i in range(8): #asigna la columna\n",
        "        tablero[i, posicion.c] = True\n",
        "\n",
        "\n",
        "posicion = PosicionTablero(4, 2)\n",
        "ataque_torre(tablero, posicion)\n",
        "tablero"
      ]
    },
    {
      "cell_type": "code",
      "execution_count": null,
      "metadata": {},
      "outputs": [],
      "source": []
    },
    {
      "cell_type": "markdown",
      "metadata": {
        "id": "oLR6-sFDIxuM"
      },
      "source": [
        "# Ejercicio\n",
        "\n",
        "Desarrolla las funciones para las demas figuras\n",
        "*   Reina\n",
        "*   Alfil\n",
        "*   Caballo \n",
        "*   Peon\n",
        "*   Rey\n",
        "---\n",
        "FIN LABORATORIO\n",
        "---\n",
        "\n"
      ]
    },
    {
      "cell_type": "markdown",
      "metadata": {},
      "source": [
        "# Reina"
      ]
    },
    {
      "cell_type": "code",
      "execution_count": 33,
      "metadata": {},
      "outputs": [
        {
          "data": {
            "text/plain": [
              "array([[ True, False,  True, False,  True, False, False, False],\n",
              "       [False,  True,  True,  True, False, False, False, False],\n",
              "       [ True,  True,  True,  True,  True,  True,  True,  True],\n",
              "       [False,  True,  True,  True, False, False, False, False],\n",
              "       [ True, False,  True, False,  True, False, False, False],\n",
              "       [False, False,  True, False, False,  True, False, False],\n",
              "       [False, False,  True, False, False, False,  True, False],\n",
              "       [False, False,  True, False, False, False, False,  True]])"
            ]
          },
          "execution_count": 33,
          "metadata": {},
          "output_type": "execute_result"
        }
      ],
      "source": [
        "import numpy as np\n",
        "from collections import namedtuple\n",
        "\n",
        "# aprovechamos las funciones de la librería NumPy para crear una matriz de 8 x 8 inicializada en False \n",
        "tablero = np.array([[False] * 8] *8 ) \n",
        "\n",
        "# Definimos una tupla para la posición de la torre\n",
        "PosicionTablero = namedtuple('PosicionTablero', ['f', 'c']) \n",
        "\n",
        "\n",
        "def ataque_reina(tablero, posicion):\n",
        "    \n",
        "    for i in range(8):\n",
        "        tablero[posicion.f, i] = True\n",
        "\n",
        "    for i in range(8):\n",
        "        tablero[i, posicion.c] = True\n",
        "    \n",
        "    \n",
        "    for i in range(8):\n",
        "        if posicion.f + i < 8 and posicion.c + i < 8:\n",
        "            tablero[posicion.f + i, posicion.c + i] = True\n",
        "        else:\n",
        "            break\n",
        "        \n",
        "    for i in range(8):\n",
        "        if posicion.c - i >= 0 and posicion.c - i >= 0:\n",
        "            tablero[posicion.f - i, posicion.c - i] = True\n",
        "        else:\n",
        "            break\n",
        "        \n",
        "        \n",
        "    for i in range(8):\n",
        "        if posicion.f + i < 8 and posicion.c - i >= 0:\n",
        "            tablero[posicion.f + i, posicion.c - i] = True\n",
        "        else:\n",
        "            break\n",
        "        \n",
        "        \n",
        "    for i in range(8):\n",
        "        if posicion.f - i >= 0 and posicion.c + i < 8:\n",
        "            tablero[posicion.f - i, posicion.c + i] = True\n",
        "        \n",
        "        \n",
        "posicion = PosicionTablero(2, 2)\n",
        "ataque_reina(tablero, posicion)\n",
        "tablero\n"
      ]
    },
    {
      "cell_type": "markdown",
      "metadata": {},
      "source": [
        "# Alfil"
      ]
    },
    {
      "cell_type": "code",
      "execution_count": 31,
      "metadata": {},
      "outputs": [
        {
          "data": {
            "text/plain": [
              "array([[ True, False, False, False,  True, False, False, False],\n",
              "       [False,  True, False,  True, False, False, False, False],\n",
              "       [False, False,  True, False, False, False, False, False],\n",
              "       [False,  True, False,  True, False, False, False, False],\n",
              "       [ True, False, False, False,  True, False, False, False],\n",
              "       [False, False, False, False, False,  True, False, False],\n",
              "       [False, False, False, False, False, False,  True, False],\n",
              "       [False, False, False, False, False, False, False,  True]])"
            ]
          },
          "execution_count": 31,
          "metadata": {},
          "output_type": "execute_result"
        }
      ],
      "source": [
        "import numpy as np\n",
        "from collections import namedtuple\n",
        "\n",
        "# aprovechamos las funciones de la librería NumPy para crear una matriz de 8 x 8 inicializada en False \n",
        "tablero = np.array([[False] * 8] *8 ) \n",
        "\n",
        "# Definimos una tupla para la posición de la torre\n",
        "PosicionTablero = namedtuple('PosicionTablero', ['f', 'c']) \n",
        "\n",
        "\n",
        "def ataque_alfil(tablero, posicion):\n",
        "    for i in range(8):   #asigna la fila\n",
        "        if posicion.f + i < 8 and posicion.c + i < 8:\n",
        "            tablero[posicion.f + i, posicion.c + i] = True\n",
        "        else:\n",
        "            break\n",
        "        \n",
        "    for i in range(8):\n",
        "        if posicion.c - i >= 0 and posicion.c - i >= 0:\n",
        "            tablero[posicion.f - i, posicion.c - i] = True\n",
        "        else:\n",
        "            break\n",
        "        \n",
        "        \n",
        "    for i in range(8):\n",
        "        if posicion.f + i < 8 and posicion.c - i >= 0:\n",
        "            tablero[posicion.f + i, posicion.c - i] = True\n",
        "        else:\n",
        "            break\n",
        "        \n",
        "        \n",
        "    for i in range(8):\n",
        "        if posicion.f - i >= 0 and posicion.c + i < 8:\n",
        "            tablero[posicion.f - i, posicion.c + i] = True\n",
        "        \n",
        "        \n",
        "posicion = PosicionTablero(2, 2)\n",
        "ataque_alfil(tablero, posicion)\n",
        "tablero\n"
      ]
    },
    {
      "cell_type": "markdown",
      "metadata": {},
      "source": [
        "# Caballo"
      ]
    },
    {
      "cell_type": "code",
      "execution_count": 21,
      "metadata": {},
      "outputs": [
        {
          "data": {
            "text/plain": [
              "array([[False, False,  True, False,  True, False, False, False],\n",
              "       [False, False, False, False, False, False, False, False],\n",
              "       [ True, False, False, False, False, False,  True, False],\n",
              "       [False, False, False,  True, False, False, False, False],\n",
              "       [ True, False, False, False, False, False,  True, False],\n",
              "       [False, False, False, False, False, False, False, False],\n",
              "       [False, False,  True, False,  True, False, False, False],\n",
              "       [False, False, False, False, False, False, False, False]])"
            ]
          },
          "execution_count": 21,
          "metadata": {},
          "output_type": "execute_result"
        }
      ],
      "source": [
        "import numpy as np\n",
        "from collections import namedtuple\n",
        "\n",
        "# aprovechamos las funciones de la librería NumPy para crear una matriz de 8 x 8 inicializada en False \n",
        "tablero = np.array([[False] * 8] *8 ) \n",
        "\n",
        "# Definimos una tupla para la posición de la torre\n",
        "PosicionTablero = namedtuple('PosicionTablero', ['f', 'c']) \n",
        "\n",
        "\n",
        "def ataque_caballo(tablero, posicion):\n",
        "    tablero[posicion.f, posicion.c] = True\n",
        "    if posicion.f + 1 < 8 and posicion.f - 1 >= 0 and posicion.c + 3 < 8:\n",
        "        tablero[posicion.f + 1, posicion.c + 3] = True\n",
        "        tablero[posicion.f - 1, posicion.c + 3] = True\n",
        "        \n",
        "    if posicion.f + 1 < 8 and posicion.f - 1 >= 0 and posicion.c - 3 >= 0:\n",
        "        tablero[posicion.f + 1, posicion.c - 3] = True\n",
        "        tablero[posicion.f - 1, posicion.c - 3] = True\n",
        "        \n",
        "    if posicion.f + 3 < 8 and posicion.c + 1 < 8 and posicion.c - 1 >= 0:\n",
        "        tablero[posicion.f + 3, posicion.c + 1] = True\n",
        "        tablero[posicion.f + 3 , posicion.c - 1] = True\n",
        "        \n",
        "    if posicion.f - 3 >= 0 and posicion.c + 1 < 8 and posicion.c - 1 >= 0:\n",
        "        tablero[posicion.f - 3, posicion.c + 1] = True\n",
        "        tablero[posicion.f - 3, posicion.c - 1] = True\n",
        "        \n",
        "        \n",
        "posicion = PosicionTablero(3, 3)\n",
        "ataque_caballo(tablero, posicion)\n",
        "tablero\n"
      ]
    },
    {
      "cell_type": "code",
      "execution_count": 26,
      "metadata": {},
      "outputs": [
        {
          "data": {
            "text/plain": [
              "array([[False, False, False, False, False, False, False, False],\n",
              "       [False, False, False, False, False, False, False, False],\n",
              "       [False, False, False,  True, False, False, False, False],\n",
              "       [False, False, False,  True, False, False, False, False],\n",
              "       [False, False, False, False, False, False, False, False],\n",
              "       [False, False, False, False, False, False, False, False],\n",
              "       [False, False, False, False, False, False, False, False],\n",
              "       [False, False, False, False, False, False, False, False]])"
            ]
          },
          "execution_count": 26,
          "metadata": {},
          "output_type": "execute_result"
        }
      ],
      "source": [
        "import numpy as np\n",
        "from collections import namedtuple\n",
        "\n",
        "# aprovechamos las funciones de la librería NumPy para crear una matriz de 8 x 8 inicializada en False \n",
        "tablero = np.array([[False] * 8] *8 ) \n",
        "\n",
        "# Definimos una tupla para la posición de la torre\n",
        "PosicionTablero = namedtuple('PosicionTablero', ['f', 'c']) \n",
        "\n",
        "\n",
        "def ataque_peon(tablero, posicion):\n",
        "    tablero[posicion.f, posicion.c] = True\n",
        "    if posicion.f - 1 >= 0:\n",
        "        tablero[posicion.f - 1, posicion.c] = True\n",
        "        \n",
        "        \n",
        "        \n",
        "posicion = PosicionTablero(3, 3)\n",
        "ataque_peon(tablero, posicion)\n",
        "tablero\n"
      ]
    },
    {
      "cell_type": "code",
      "execution_count": 29,
      "metadata": {},
      "outputs": [
        {
          "data": {
            "text/plain": [
              "array([[False, False,  True,  True,  True, False, False, False],\n",
              "       [False, False, False,  True, False, False, False, False],\n",
              "       [False, False, False, False, False, False, False, False],\n",
              "       [False, False, False, False, False, False, False, False],\n",
              "       [False, False, False, False, False, False, False, False],\n",
              "       [False, False, False, False, False, False, False, False],\n",
              "       [False, False, False, False, False, False, False, False],\n",
              "       [False, False, False,  True, False, False, False, False]])"
            ]
          },
          "execution_count": 29,
          "metadata": {},
          "output_type": "execute_result"
        }
      ],
      "source": [
        "import numpy as np\n",
        "from collections import namedtuple\n",
        "\n",
        "# aprovechamos las funciones de la librería NumPy para crear una matriz de 8 x 8 inicializada en False \n",
        "tablero = np.array([[False] * 8] *8 ) \n",
        "\n",
        "# Definimos una tupla para la posición de la torre\n",
        "PosicionTablero = namedtuple('PosicionTablero', ['f', 'c']) \n",
        "\n",
        "\n",
        "def ataque_rey(tablero, posicion):\n",
        "    tablero[posicion.f, posicion.c] = True\n",
        "    if posicion.f - 1 < 8 or posicion.f + 1 >= 0 :\n",
        "        tablero[posicion.f - 1, posicion.c] = True\n",
        "        tablero[posicion.f + 1, posicion.c] = True\n",
        "        \n",
        "    if posicion.c - 1 < 8 or posicion.c + 1 >= 0 :\n",
        "        tablero[posicion.f, posicion.c + 1] = True\n",
        "        tablero[posicion.f, posicion.c - 1] = True        \n",
        "        \n",
        "posicion = PosicionTablero(0, 3)\n",
        "ataque_rey(tablero, posicion)\n",
        "tablero\n"
      ]
    }
  ],
  "metadata": {
    "colab": {
      "collapsed_sections": [],
      "name": "Matrices.ipynb",
      "provenance": []
    },
    "interpreter": {
      "hash": "6ef24a4c262c4b7385935bcdefc3d4aed883aef8d306cecf48139a9196195a8b"
    },
    "kernelspec": {
      "display_name": "Python 3.8.10 64-bit ('base': conda)",
      "name": "python3"
    },
    "language_info": {
      "codemirror_mode": {
        "name": "ipython",
        "version": 3
      },
      "file_extension": ".py",
      "mimetype": "text/x-python",
      "name": "python",
      "nbconvert_exporter": "python",
      "pygments_lexer": "ipython3",
      "version": "3.8.10"
    }
  },
  "nbformat": 4,
  "nbformat_minor": 0
}