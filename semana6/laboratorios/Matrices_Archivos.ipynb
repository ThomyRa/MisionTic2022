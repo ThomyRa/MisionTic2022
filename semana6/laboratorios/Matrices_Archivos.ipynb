{
  "nbformat": 4,
  "nbformat_minor": 0,
  "metadata": {
    "colab": {
      "name": "Matrices_Archivos.ipynb",
      "provenance": [],
      "collapsed_sections": [
        "mv8ktMdCNhgg"
      ],
      "toc_visible": true
    },
    "kernelspec": {
      "name": "python3",
      "display_name": "Python 3"
    },
    "language_info": {
      "name": "python"
    }
  },
  "cells": [
    {
      "cell_type": "markdown",
      "metadata": {
        "id": "b84rQTZiDisw"
      },
      "source": [
        "# Laboratorio 6.1\n",
        "Elaborado por Oscar Franco-Bedoya\n",
        "\n",
        "Proyecto Mision TIC 2021\n",
        "\n",
        "# Objetivo\n",
        "En este laboratorio vamos a crear una aplicación que nos permitirá entender mejor el potencial de los archivos mediante la implementción de un proyecto práctico.\n",
        "\n",
        "# Contexto\n",
        "A pesar del control que se ha realizado para la vacunación en el mundo ASCII. (un mundo de dos dimensiones con habitantes construidos con caracteres) aún se siguen presentando problemas en la identificación de las personas que ya están vacunadas.  \n",
        "\n",
        "Por lo tanto se ha decidido utilizar un sistema de identificación biométrico que permita identificar los rostros codificados de las personas que ya han sido vacunadas.\n",
        "\n",
        "\n",
        "## Prototipo\n",
        "Para ver si estamos en capacidad de realizar este programa nos han pedido un prototipo en donde se da una descripción a muy bajo nivel del rostro de un **Ascciano** (Habitante del mundo ASCII)  en un archivo texto con 5 lineas codificadas, luego, con la información en este archivo,se debe dibujar el rostro del **Ascciano** en la consola.\n",
        "\n",
        "La siguiente grafica muestra un ejemplo del archivo de entrada codificado y del rostro que debe dibujarse.\n",
        "\n",
        "\n",
        "![Retrato.png](data:image/png;base64,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)\n",
        "\n",
        "\n",
        "Como se puede apreciar en la figura, cada línea tiene codificado un rasgo del rostro de la persona:\n",
        "* Cada linea se refiere a una parte del rostro\n",
        "   * Cabello\n",
        "   *  Ojos\n",
        "   *  Orejas-Nariz\n",
        "   *  Boca\n",
        "   *  Cuello\n",
        "* Cada inea esta formada por una lista de codigos \n",
        "    * Cada código es una pareja de valores (numero caracter) separados por el caracter tabulador, el numero indica la cantidad de veces que se repite el carácter.\n",
        "\n",
        "**Ejemplo**\n",
        "\n",
        "En la figura anterior el código del cabello es:\n",
        "\n",
        "`1   9W` Es decir 1 espacio y 9 letras W\n",
        "\n",
        "\n",
        "\n",
        "\n"
      ]
    },
    {
      "cell_type": "markdown",
      "metadata": {
        "id": "mv8ktMdCNhgg"
      },
      "source": [
        "### Otros ejemplos\n",
        "\n",
        "Estos son ejemplos de otros habitantes del mundo ASCII.\n",
        "\n",
        "![Retrato.png](data:image/png;base64,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)"
      ]
    },
    {
      "cell_type": "markdown",
      "metadata": {
        "id": "nZ_yvxmINouh"
      },
      "source": [
        "# Programando la aplicación\n",
        "\n",
        "Como ya es costrumbre, vamos a **dividir** el problema en dos partes, (1) la primera parte es la encargada de abrir y leer el archivo con el rostro codificado y hace las transformaciones necesarias para almacenar la información en una estructura de datos dinámica, (2) la segunda se encargará de dibujar el rostro en la consola.\n",
        "\n",
        "##  Del archivo a las estructuras de datos\n",
        "\n",
        "Ya sabemos que el archivo con los códigos del rostro se encuentra en la memoria secundaria (persistente), también sabemos  que para poder realizar las operaciones en un programa los datos deben estar en la memoria principal y para ello se necesitan estructuras de datos.\n",
        "\n",
        "De acuerdo al ejemplo, el contenido del archivo es el siguiente\n",
        "\n",
        "| Rostro.txt  |  \n",
        "|----------|\n",
        "|1 \t,9 W\n",
        "1 \\t,1 \\|,2 ,1 o,1  ,1 o,2 \\t,1 |\n",
        "1 @,4 \\t,1 U,4 \\t,1 @\n",
        "1 \\t,1 \\t\\|,2 \\t,3 =,2 \\t,1 |´\n",
        "2 \\t,1 \\,5 _,1 /|\n",
        "\n",
        "Tenemos una lista de 5 elementos donde cada uno contiene una lista de los  códigos de cada parte del rostro, los cuales a su vez son una lista (¿tupla?) con dos valores (número y caracter). En resumen tenemos una lista de listas de listas :-)\n",
        "\n",
        "Vamos a trabajar con esa perspectiva\n",
        "\n",
        "### Obteniendo la lista inicial \n",
        "Podemos inicialmente leer estas líneas y guardarlas en una lista.\n",
        "\n",
        "**NOTA**\n",
        "Para poder trabajar con este ejercicio debe estar almacenado en la carpeta sample_data el archivo llamado rostro.txt, con el siguiente contenido, pídele apoyo a tu formador/tutor para que te explique como hacerlo. \n",
        "\n",
        "\n",
        "\n",
        "```\n",
        "1\t ,9\tW\n",
        "1\t ,1\t|,2\t ,1\to,1\to,2\t ,1\t|\n",
        "1\t@,4\t ,1\tU,4\t ,1\t@\n",
        "1\t ,1\t|,2\t ,3\t=,2\t ,1\t|\n",
        "2\t ,1\t\\,5\t_,1\t/\n",
        "```\n",
        "\n",
        "\n",
        "\n"
      ]
    },
    {
      "cell_type": "code",
      "metadata": {
        "id": "rAKK11Ugnh6M",
        "colab": {
          "base_uri": "https://localhost:8080/"
        },
        "outputId": "bb66e44d-d5ff-4d10-d702-b1248a10ed51"
      },
      "source": [
        "from pprint import pprint  #permite imprimir estructuras de datos complejas de una manera amigable\n",
        "\n",
        "fh = open('/content/sample_data/rostro.txt')\n",
        "codigos = []\n",
        "for linea in fh:\n",
        "  codigos.append(linea)\n",
        "  \n",
        "pprint(codigos)\n"
      ],
      "execution_count": null,
      "outputs": [
        {
          "output_type": "stream",
          "text": [
            "['1\\t ,9\\tW\\n', '1\\t ,\\t|,2\\t ,1\\to,1\\to,2\\t ,1\\t|']\n"
          ],
          "name": "stdout"
        }
      ]
    },
    {
      "cell_type": "markdown",
      "metadata": {
        "id": "dR4MYPrOojIP"
      },
      "source": [
        "### Obtenendo la lista de listas\n",
        "Para poder manipular la información necesitamos una estructura de datos más \"amigable\" que nos permita separar los códigos. En lugar de una lista de cadenas, vamos a obtener una lista de listas.\n",
        "\n"
      ]
    },
    {
      "cell_type": "code",
      "metadata": {
        "id": "A_0DG0ovpHaA",
        "colab": {
          "base_uri": "https://localhost:8080/"
        },
        "outputId": "0e2af887-2d89-4cc3-a3a0-af1a396392db"
      },
      "source": [
        "from pprint import pprint\n",
        "\n",
        "fh= open('/content/sample_data/rostro.txt')\n",
        "codigos = []\n",
        "for linea in fh:\n",
        "  codigos.append(linea.rstrip().split(',')) #La función split parte una cadena en subcadenas que esten separadas por `,`\n",
        "  \n",
        "pprint(codigos)"
      ],
      "execution_count": null,
      "outputs": [
        {
          "output_type": "stream",
          "text": [
            "[['1\\t ', '9\\tW'], ['1\\t ', '1\\t|', '2\\t ', '1\\to', '1\\to', '2\\t ', '1\\t|']]\n"
          ],
          "name": "stdout"
        }
      ]
    },
    {
      "cell_type": "markdown",
      "metadata": {
        "id": "I_Ayqmt8qYHQ"
      },
      "source": [
        "### Obteniendo la lista de listas de listas\n",
        "\n",
        "Adelantándonos un poco a la estrategia para dibujar el rostro, sería muy conveniente tener separados las parejas numero y carácter por cada lìnea del archivo."
      ]
    },
    {
      "cell_type": "code",
      "metadata": {
        "id": "8490s8EHSqHn",
        "colab": {
          "base_uri": "https://localhost:8080/"
        },
        "outputId": "d4ee4677-2bb5-468e-c53d-8465f7a47b25"
      },
      "source": [
        "from pprint import pprint\n",
        "\n",
        "fh= open('/content/sample_data/rostro.txt')\n",
        "rostro = []  #estructura para el rostro completo que esta formado por 5 lineas\n",
        "for linea in fh: #recorre el archivo\n",
        "  codigos_linea= linea.strip().split(',') #obtiene la lista de codigos por cada linea\n",
        "  linea=[]\n",
        "  for codigo in codigos_linea: #separa el numero del caracter \n",
        "    linea.append(codigo.split('\\t')) \n",
        "\n",
        "  rostro.append(linea)\n",
        "\n",
        "pprint(rostro)  \n"
      ],
      "execution_count": null,
      "outputs": [
        {
          "output_type": "stream",
          "text": [
            "[[['1', ' '], ['9', 'W']],\n",
            " [['1', ' '],\n",
            "  ['1', '|'],\n",
            "  ['2', ' '],\n",
            "  ['1', 'o'],\n",
            "  ['1', 'o'],\n",
            "  ['2', ' '],\n",
            "  ['1', '|']]]\n"
          ],
          "name": "stdout"
        }
      ]
    },
    {
      "cell_type": "markdown",
      "metadata": {
        "id": "-4-0r3Ha1jA_"
      },
      "source": [
        "### Funciona pero se ve feo\n",
        "\n",
        "El tema de la semana es no reinventar la rueda, ademas ya somos expertos en funciones, por lo tanto vamos a organizar nuestro programa como una función."
      ]
    },
    {
      "cell_type": "code",
      "metadata": {
        "id": "8wShFbcrX9li",
        "colab": {
          "base_uri": "https://localhost:8080/"
        },
        "outputId": "63dbf7f8-5fe9-47ce-832e-a3eee6d8e688"
      },
      "source": [
        "from pprint import pprint\n",
        "\n",
        "def cargar_rostro(archivo):\n",
        "  fh= open(archivo)\n",
        "  rostro = []  #estructura para el rostro completo que esta formado por 5 lineas\n",
        "  for linea in fh: #recorre el archivo\n",
        "    codigos_linea= linea.rstrip().split(',') #obtiene la lista de codigos por cada linea\n",
        "    linea=[]\n",
        "    for codigo in codigos_linea: #separa el numero del caracter \n",
        "      linea.append(codigo.split('\\t')) \n",
        "    rostro.append(linea)\n",
        "  return rostro \n",
        "#----------------------------------------------------------------------------\n",
        "\n",
        "codigos_rostro=cargar_rostro('/content/sample_data/rostro.txt')\n",
        "pprint(codigos_rostro)\n",
        "  "
      ],
      "execution_count": null,
      "outputs": [
        {
          "output_type": "stream",
          "text": [
            "[[['1', ' '], ['9', 'W']],\n",
            " [['1', ' '],\n",
            "  ['1', '|'],\n",
            "  ['2', ' '],\n",
            "  ['1', 'o'],\n",
            "  ['1', 'o'],\n",
            "  ['2', ' '],\n",
            "  ['1', '|']]]\n"
          ],
          "name": "stdout"
        }
      ]
    },
    {
      "cell_type": "markdown",
      "metadata": {
        "id": "kkN98BAe4GxX"
      },
      "source": [
        "## Dibujando el rostro\n",
        "Esta segunda parte del programa recibe la estructura de datos obtenida en la primera parte, es decir una lista de listas de listas (3 niveles)  la cual se debe recorrer secuencialmente para ir imprimir el rostro.   "
      ]
    },
    {
      "cell_type": "code",
      "metadata": {
        "id": "NxXaHXbd5WWT",
        "colab": {
          "base_uri": "https://localhost:8080/"
        },
        "outputId": "5b99e49d-c5d9-4f7e-c1d9-8c4419603377"
      },
      "source": [
        "from pprint import pprint\n",
        "\n",
        "\n",
        "def cargar_rostro(archivo):\n",
        "  \"\"\" \n",
        "  Parameters\n",
        "  ----------\n",
        "  archivo:string\n",
        "    El identificador del archivo y la ubicación  del mismo\n",
        "  Returns\n",
        "  -------\n",
        "  Rostro:[[[]]]\n",
        "    Una lista de 3 niveles con el rostro codificado en el archivo    \n",
        "  \"\"\"  \n",
        "  fh= open(archivo)\n",
        "  rostro = []  #estructura para el rostro completo que esta formado por 5 lineas\n",
        "  for linea in fh: #recorre el archivo\n",
        "    codigos_linea= linea.rstrip().split(',') #obtiene la lista de codigos por cada linea\n",
        "    linea=[]\n",
        "    for codigo in codigos_linea: #separa el numero del caracter \n",
        "      linea.append(codigo.split('\\t')) \n",
        "    rostro.append(linea)\n",
        "  return rostro \n",
        "\n",
        "\n",
        "def imprimir_rostro(rostro):\n",
        "  \"\"\" \n",
        "  Parameters\n",
        "  ----------\n",
        "  Rostro:[[[]]]\n",
        "    Una lista de 3 niveles con el rostro codificado en el archivo\n",
        "  \n",
        "  Returns\n",
        "  -------\n",
        "  Ninguno\n",
        "    Presenta el rostro en la consola    \n",
        "  \"\"\" \n",
        "  for linea_codigo in rostro: #recorre cada linea del rostro\n",
        "    for codigo in linea_codigo: #recorre cada codigo de la linea\n",
        "       imprimir_linea(codigo) #imprime el caracter un numero de veces\n",
        "    print(\"\\n\")\n",
        "\n",
        "\n",
        "def imprimir_linea(codigo):\n",
        "\n",
        "  \"\"\" \n",
        "  Parameters\n",
        "  ----------\n",
        "  codigo: string\n",
        "  un codigo (numero, letra)  \n",
        "  Returns\n",
        "  -------\n",
        "  Ninguno\n",
        "    imprime en la consola el caracter del codigo la cantidad de veces en numero    \n",
        "  \"\"\" \n",
        "\n",
        "  numero=int(codigo[0])\n",
        "  caracter=codigo[1]\n",
        "  for i in range(0,numero):\n",
        "    print(caracter,end=\"\") \n",
        "  \n",
        "  \n",
        "#----------------------------------------------------------------------------\n",
        "\n",
        "codigos_rostro=cargar_rostro('/content/sample_data/rostro.txt')\n",
        "imprimir_rostro(codigos_rostro)\n",
        "\n",
        "\n"
      ],
      "execution_count": null,
      "outputs": [
        {
          "output_type": "stream",
          "text": [
            " WWWWWWWWW\n",
            "\n",
            " |  oo  |\n",
            "\n",
            "@    U    @\n",
            "\n",
            " |  ===  |\n",
            "\n",
            "  \\_____/\n",
            "\n"
          ],
          "name": "stdout"
        }
      ]
    },
    {
      "cell_type": "markdown",
      "metadata": {
        "id": "R4P4vitNGePk"
      },
      "source": [
        "# Ejercicio\n",
        "Prueba a crear los archivos de los demas rostros del ejemplo\n",
        "---\n",
        "FIN DEL LABORATORIO\n",
        "---\n",
        "\n"
      ]
    }
  ]
}