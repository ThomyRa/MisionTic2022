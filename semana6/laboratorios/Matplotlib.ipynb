{
  "nbformat": 4,
  "nbformat_minor": 0,
  "metadata": {
    "colab": {
      "name": "Matplotlib.ipynb",
      "provenance": []
    },
    "kernelspec": {
      "name": "python3",
      "display_name": "Python 3"
    },
    "language_info": {
      "name": "python"
    }
  },
  "cells": [
    {
      "cell_type": "markdown",
      "metadata": {
        "id": "1jGfSpMhrIzv"
      },
      "source": [
        "# Laboratorio 6.4\n",
        "Elaborado por Oscar Franco-Bedoya\n",
        "\n",
        "`Proyecto Mision TIC 2021\n",
        "\n",
        "# Objetivo\n",
        "El objetivo de este laboratorio es realizar algunos ejercicios prácticas con la libreria [Matplotlib](https://matplotlib.org/)\n",
        "\n",
        "# Contexto\n",
        "matplotlib es una librería con funciones para crear gráficas de diferentes fuentes de datos.\n",
        "\n",
        "## Primer programa\n",
        "\n",
        "\n"
      ]
    },
    {
      "cell_type": "code",
      "metadata": {
        "id": "DkdTFaNnrAv6",
        "colab": {
          "base_uri": "https://localhost:8080/",
          "height": 265
        },
        "outputId": "4a3394d3-261b-407a-d547-9d032af7dd94"
      },
      "source": [
        "# Se importa la librería con el alias de plt\n",
        "import matplotlib.pyplot as plt\n",
        "\n",
        "# Fuente de datos\n",
        "datos=[1,2,3,4,5,6,7,8,9,10]\n",
        "\n",
        "# Grafica los datos:  la función plot asume que los datos ingresados son de la coordenada y \n",
        "plt.plot(datos)\n",
        "\n",
        "# adiciona un label al eje y\n",
        "plt.ylabel('Algunos números')\n",
        "\n",
        "#actualiza la imagen\n",
        "\n",
        "plt.show()"
      ],
      "execution_count": null,
      "outputs": [
        {
          "output_type": "display_data",
          "data": {
            "image/png": "[encoded data removed]",
            "text/plain": [
              "<Figure size 432x288 with 1 Axes>"
            ]
          },
          "metadata": {
            "tags": [],
            "needs_background": "light"
          }
        }
      ]
    },
    {
      "cell_type": "markdown",
      "metadata": {
        "id": "xDxeeUFntuXF"
      },
      "source": [
        "# Datos para ambos ejes"
      ]
    },
    {
      "cell_type": "code",
      "metadata": {
        "id": "2Nels1pJtyfo",
        "colab": {
          "base_uri": "https://localhost:8080/",
          "height": 282
        },
        "outputId": "98ca5178-c0c9-46a9-ae6d-7cc215be69c3"
      },
      "source": [
        "# Se importa la librería con el alias de plt\n",
        "import matplotlib.pyplot as plt\n",
        "\n",
        "datosX=[1,2,3,4,5,6,7,8,9,10]\n",
        "datosY=[1,4,9,16,25,36,49,64,81,100]\n",
        "plt.plot(datosX,datosY)\n"
      ],
      "execution_count": null,
      "outputs": [
        {
          "output_type": "execute_result",
          "data": {
            "text/plain": [
              "[<matplotlib.lines.Line2D at 0x7f58c8f16090>]"
            ]
          },
          "metadata": {
            "tags": []
          },
          "execution_count": 25
        },
        {
          "output_type": "display_data",
          "data": {
            "image/png": "[encoded data removed]",
            "text/plain": [
              "<Figure size 432x288 with 1 Axes>"
            ]
          },
          "metadata": {
            "tags": [],
            "needs_background": "light"
          }
        }
      ]
    },
    {
      "cell_type": "markdown",
      "metadata": {
        "id": "1CgGzWfguixK"
      },
      "source": [
        "# Cambiando el formato"
      ]
    },
    {
      "cell_type": "code",
      "metadata": {
        "id": "LpysGoG4uoCl",
        "colab": {
          "base_uri": "https://localhost:8080/",
          "height": 282
        },
        "outputId": "5571282c-7a0e-4049-e304-5d0a6fdfbbb5"
      },
      "source": [
        "# Se importa la librería con el alias de plt\n",
        "import matplotlib.pyplot as plt\n",
        "\n",
        "datosX=[1,2,3,4,5,6,7,8,9,10]\n",
        "datosY=[1,4,9,16,25,36,49,64,81,100]\n",
        "\n",
        "# Cambia el formato para que grafique de color rojo \"r\" y el símbolo o \n",
        "plt.plot(datosX,datosY,'r*')"
      ],
      "execution_count": null,
      "outputs": [
        {
          "output_type": "execute_result",
          "data": {
            "text/plain": [
              "[<matplotlib.lines.Line2D at 0x7f58c8d17210>]"
            ]
          },
          "metadata": {
            "tags": []
          },
          "execution_count": 30
        },
        {
          "output_type": "display_data",
          "data": {
            "image/png": "[encoded data removed]",
            "text/plain": [
              "<Figure size 432x288 with 1 Axes>"
            ]
          },
          "metadata": {
            "tags": [],
            "needs_background": "light"
          }
        }
      ]
    },
    {
      "cell_type": "code",
      "metadata": {
        "id": "5dM-A3TIvBCN",
        "colab": {
          "base_uri": "https://localhost:8080/",
          "height": 269
        },
        "outputId": "88a67133-7055-45b7-d263-311a337d366e"
      },
      "source": [
        "# Se importa la librería con el alias de plt\n",
        "import matplotlib.pyplot as plt\n",
        "\n",
        "datosX=[1,2,3,4,5,6,7,8,9,10]\n",
        "datosY=[1,4,9,16,25,36,49,64,81,100]\n",
        "plt.plot(datosX,datosY,'ro')\n",
        "\n",
        "# Visualiza una porción de la grafica (zoom)\n",
        "plt.axis([0, 5, 0, 20]) #[xmin,xmax,ymin,ymax]\n",
        "plt.show()"
      ],
      "execution_count": null,
      "outputs": [
        {
          "output_type": "display_data",
          "data": {
            "image/png": "[encoded data removed]",
            "text/plain": [
              "<Figure size 432x288 with 1 Axes>"
            ]
          },
          "metadata": {
            "tags": [],
            "needs_background": "light"
          }
        }
      ]
    },
    {
      "cell_type": "markdown",
      "metadata": {
        "id": "OHmbHRSxw_yk"
      },
      "source": [
        "# Graficando el seno de 0 a 360 "
      ]
    },
    {
      "cell_type": "code",
      "metadata": {
        "id": "Ug40tlBJxFwX",
        "colab": {
          "base_uri": "https://localhost:8080/",
          "height": 265
        },
        "outputId": "c1b87dd3-e6df-4cb1-f249-bdd7a88d5efa"
      },
      "source": [
        "# Se importa la librería con el alias de plt\n",
        "import matplotlib.pyplot as plt\n",
        "import math\n",
        "\n",
        "def obtener_datos():\n",
        "  x=0\n",
        "  datos_x=[]\n",
        "  datos_y=[]\n",
        "  for ang in range(0,361):\n",
        "    datos_x.append(x)\n",
        "    datos_y.append(math.cos(math.radians(x)))\n",
        "    x+=1\n",
        "  return datos_x,datos_y\n",
        "\n",
        "def graficar_seno(dx,dy):\n",
        "  plt.plot(dx,dy,'r--')\n",
        "  \n",
        "  \n",
        "\n",
        "\n",
        "\n",
        "dx,dy= obtener_datos()\n",
        "graficar_seno(dx,dy)\n"
      ],
      "execution_count": null,
      "outputs": [
        {
          "output_type": "display_data",
          "data": {
            "image/png": "[encoded data removed]",
            "text/plain": [
              "<Figure size 432x288 with 1 Axes>"
            ]
          },
          "metadata": {
            "tags": [],
            "needs_background": "light"
          }
        }
      ]
    },
    {
      "cell_type": "markdown",
      "metadata": {
        "id": "AX-WuX7NzN38"
      },
      "source": [
        "---\n",
        "FIN LABORATORIO\n",
        "\n",
        "---"
      ]
    }
  ]
}