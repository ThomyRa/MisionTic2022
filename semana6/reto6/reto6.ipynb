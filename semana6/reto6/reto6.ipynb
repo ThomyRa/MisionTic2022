{
 "cells": [
  {
   "cell_type": "markdown",
   "metadata": {},
   "source": [
    "# Genero datos aleatorios"
   ]
  },
  {
   "cell_type": "markdown",
   "metadata": {},
   "source": [
    "## Generar nuevo formato de diccionario"
   ]
  },
  {
   "cell_type": "code",
   "execution_count": 3,
   "metadata": {},
   "outputs": [
    {
     "ename": "TypeError",
     "evalue": "list indices must be integers or slices, not list",
     "output_type": "error",
     "traceback": [
      "\u001b[0;31m---------------------------------------------------------------------------\u001b[0m",
      "\u001b[0;31mTypeError\u001b[0m                                 Traceback (most recent call last)",
      "\u001b[0;32m<ipython-input-3-6c2057a3b15e>\u001b[0m in \u001b[0;36m<module>\u001b[0;34m\u001b[0m\n\u001b[1;32m     25\u001b[0m \u001b[0;31m#     print(barcodes_dict)\u001b[0m\u001b[0;34m\u001b[0m\u001b[0;34m\u001b[0m\u001b[0;34m\u001b[0m\u001b[0m\n\u001b[1;32m     26\u001b[0m \u001b[0;34m\u001b[0m\u001b[0m\n\u001b[0;32m---> 27\u001b[0;31m \u001b[0minner_list\u001b[0m \u001b[0;34m=\u001b[0m \u001b[0;34m[\u001b[0m\u001b[0mbarcode_lists\u001b[0m\u001b[0;34m[\u001b[0m\u001b[0mlist_element\u001b[0m\u001b[0;34m]\u001b[0m \u001b[0;32mfor\u001b[0m \u001b[0mlist_element\u001b[0m \u001b[0;32min\u001b[0m \u001b[0mbarcode_lists\u001b[0m\u001b[0;34m]\u001b[0m\u001b[0;34m\u001b[0m\u001b[0;34m\u001b[0m\u001b[0m\n\u001b[0m\u001b[1;32m     28\u001b[0m \u001b[0;34m\u001b[0m\u001b[0m\n\u001b[1;32m     29\u001b[0m \u001b[0mbarcodes_dict\u001b[0m \u001b[0;34m=\u001b[0m \u001b[0;34m{\u001b[0m\u001b[0minner_list\u001b[0m\u001b[0;34m[\u001b[0m\u001b[0;36m0\u001b[0m\u001b[0;34m]\u001b[0m\u001b[0;34m:\u001b[0m \u001b[0minner_list\u001b[0m\u001b[0;34m[\u001b[0m\u001b[0;36m1\u001b[0m\u001b[0;34m]\u001b[0m \u001b[0;32mfor\u001b[0m \u001b[0minner_list\u001b[0m\u001b[0;34m[\u001b[0m\u001b[0;36m0\u001b[0m\u001b[0;34m]\u001b[0m\u001b[0;34m,\u001b[0m \u001b[0minner_list\u001b[0m\u001b[0;34m[\u001b[0m\u001b[0;36m1\u001b[0m\u001b[0;34m]\u001b[0m \u001b[0;32min\u001b[0m \u001b[0mbarcode_lists\u001b[0m\u001b[0;34m}\u001b[0m\u001b[0;34m\u001b[0m\u001b[0;34m\u001b[0m\u001b[0m\n",
      "\u001b[0;32m<ipython-input-3-6c2057a3b15e>\u001b[0m in \u001b[0;36m<listcomp>\u001b[0;34m(.0)\u001b[0m\n\u001b[1;32m     25\u001b[0m \u001b[0;31m#     print(barcodes_dict)\u001b[0m\u001b[0;34m\u001b[0m\u001b[0;34m\u001b[0m\u001b[0;34m\u001b[0m\u001b[0m\n\u001b[1;32m     26\u001b[0m \u001b[0;34m\u001b[0m\u001b[0m\n\u001b[0;32m---> 27\u001b[0;31m \u001b[0minner_list\u001b[0m \u001b[0;34m=\u001b[0m \u001b[0;34m[\u001b[0m\u001b[0mbarcode_lists\u001b[0m\u001b[0;34m[\u001b[0m\u001b[0mlist_element\u001b[0m\u001b[0;34m]\u001b[0m \u001b[0;32mfor\u001b[0m \u001b[0mlist_element\u001b[0m \u001b[0;32min\u001b[0m \u001b[0mbarcode_lists\u001b[0m\u001b[0;34m]\u001b[0m\u001b[0;34m\u001b[0m\u001b[0;34m\u001b[0m\u001b[0m\n\u001b[0m\u001b[1;32m     28\u001b[0m \u001b[0;34m\u001b[0m\u001b[0m\n\u001b[1;32m     29\u001b[0m \u001b[0mbarcodes_dict\u001b[0m \u001b[0;34m=\u001b[0m \u001b[0;34m{\u001b[0m\u001b[0minner_list\u001b[0m\u001b[0;34m[\u001b[0m\u001b[0;36m0\u001b[0m\u001b[0;34m]\u001b[0m\u001b[0;34m:\u001b[0m \u001b[0minner_list\u001b[0m\u001b[0;34m[\u001b[0m\u001b[0;36m1\u001b[0m\u001b[0;34m]\u001b[0m \u001b[0;32mfor\u001b[0m \u001b[0minner_list\u001b[0m\u001b[0;34m[\u001b[0m\u001b[0;36m0\u001b[0m\u001b[0;34m]\u001b[0m\u001b[0;34m,\u001b[0m \u001b[0minner_list\u001b[0m\u001b[0;34m[\u001b[0m\u001b[0;36m1\u001b[0m\u001b[0;34m]\u001b[0m \u001b[0;32min\u001b[0m \u001b[0mbarcode_lists\u001b[0m\u001b[0;34m}\u001b[0m\u001b[0;34m\u001b[0m\u001b[0;34m\u001b[0m\u001b[0m\n",
      "\u001b[0;31mTypeError\u001b[0m: list indices must be integers or slices, not list"
     ]
    }
   ],
   "source": [
    "import heroes\n",
    "from random import randint, uniform\n",
    "from pprint import pprint\n",
    "\n",
    "heroes_names = [heroes.gen() for _ in range(20)]\n",
    "barcodes = [randint(10000, 99999) for _ in range(20)]\n",
    "quantities = [randint(1, 30) for _ in range(20)]\n",
    "prices = [round(uniform(100, 5000), 1) for _ in range(20)]\n",
    "\n",
    "comic_attributes = [[barcode, quantity, price] for barcode, quantity, price in zip(barcodes, quantities, prices)]\n",
    "\n",
    "barcode_labels = [\"Código\"] * 20\n",
    "barcode_lists = [[code_label, code] for (code_label, code) in zip(barcode_labels, barcodes)]\n",
    "\n",
    "quantity_labels = [\"Cantidad\"] * 20\n",
    "quantity_lists = [[quantity_label, quantity] for (quantity_label, quantity) in zip(quantity_labels, quantities)]\n",
    "\n",
    "prices_labels = [\"Precio\"] * 20\n",
    "price_lists = [[price, prices_labels]for (price, prices_labels) in zip(prices_labels, prices)]\n",
    "\n",
    "\n",
    "# barcodes_dict = {}\n",
    "# for inner_list in barcode_lists:\n",
    "#     barcodes_dict[inner_list[0]] = inner_list[1]\n",
    "#     print(barcodes_dict)\n",
    "    \n",
    "inner_list = [list_element[0] for list_element[0] in barcode_lists]\n",
    "    \n",
    "barcodes_dict = {inner_list[0]: inner_list[1] for inner_list[0], inner_list[1] in barcode_lists}\n",
    "\n",
    "print(barcodes_dict)"
   ]
  },
  {
   "cell_type": "code",
   "execution_count": 58,
   "metadata": {},
   "outputs": [
    {
     "name": "stdout",
     "output_type": "stream",
     "text": [
      "[['Código', 83867], ['Código', 33955], ['Código', 91131], ['Código', 10899], ['Código', 89198], ['Código', 84383], ['Código', 89265], ['Código', 40354], ['Código', 16293], ['Código', 23005], ['Código', 48934], ['Código', 32671], ['Código', 32505], ['Código', 69255], ['Código', 10254], ['Código', 30996], ['Código', 45802], ['Código', 31646], ['Código', 34250], ['Código', 70308]]\n"
     ]
    }
   ],
   "source": [
    "print(barcode_lists)"
   ]
  }
 ],
 "metadata": {
  "interpreter": {
   "hash": "6ef24a4c262c4b7385935bcdefc3d4aed883aef8d306cecf48139a9196195a8b"
  },
  "kernelspec": {
   "display_name": "Python 3.8.10 64-bit ('base': conda)",
   "name": "python3"
  },
  "language_info": {
   "name": "python",
   "version": ""
  },
  "orig_nbformat": 4
 },
 "nbformat": 4,
 "nbformat_minor": 2
}