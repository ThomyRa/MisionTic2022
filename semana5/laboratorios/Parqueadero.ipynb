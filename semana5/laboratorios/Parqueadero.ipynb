{
  "nbformat": 4,
  "nbformat_minor": 0,
  "metadata": {
    "colab": {
      "name": "Parqueadero.ipynb",
      "provenance": [],
      "collapsed_sections": []
    },
    "kernelspec": {
      "name": "python3",
      "display_name": "Python 3"
    },
    "language_info": {
      "name": "python"
    }
  },
  "cells": [
    {
      "cell_type": "markdown",
      "metadata": {
        "id": "9T-bFjhiq27g"
      },
      "source": [
        "# Laboratorio 5.5\n",
        "Elaborado por Oscar Franco-Bedoya\n",
        "\n",
        "`Proyecto Mision TIC 2021\n",
        "\n",
        "# Objetivo\n",
        "El objetivo de este laboratorio es desarrollar un programa que aplique los conceptos de estructuras de datos compuestas como los diccionarios y las tuplas y también las estructuras de datos abstractas como las pilas.\n",
        "\n",
        "# El parqueadero\n",
        "Vamos a desarrollar una aplicación que apoye a una empresa de parqueaderos a gestionar el ingreso, asignación de puestos y salida de vehículos.\n",
        "\n",
        "## Contexto\n",
        "Los parqueaderos de la empresa están diseñados por niveles y en cada nivel existe la misma cantidad de puestos de parqueo.\n",
        "\n",
        "Una gráfica del parqueadero con dos niveles y 4 puestos en cada uno es la siguiente\n",
        "\n",
        "|Nivel 2| 1 | 2 | 3 | 4| \n",
        "|---|---|---|---|---|\n",
        "|Nivel 1| 1 | 2 | 3 | 4| \n",
        "\n",
        "# Analisis: identificar y definir el problema\n",
        "\n",
        "Debemos desarrollar una aplicación que permita el manejo de puestos  (*problema*) para un parqueadero (*interesados*) que registre el ingreso y salida de vehículos.\n",
        "\n",
        "Los puestos del parqueadero se van asignando desde el nivel mas alto y el puesto mas alto hasta el más bajo.\n",
        "\n",
        "Por ejemplo si ingresa el vehículo de placas NAR-110 el parquedero queda asi:\n",
        "\n",
        "|Nivel 2| 1 | 2 | 3 | NAR-110| \n",
        "|---|---|---|---|---|\n",
        "|Nivel 1| 1 | 2 | 3 | 4| \n",
        "\n",
        "Entra el vehículo EPM-765\n",
        "\n",
        "|Nivel 2| 1 | 2 | EPM-765 | NAR-110| \n",
        "|---|---|---|---|---|\n",
        "|Nivel 1| 1 | 2 | 3 | 4| \n",
        "\n",
        "Entra el vehículo MAL-543\n",
        "\n",
        "|Nivel 2| 1 | MAL-543 | EPM-765 | NAR-110| \n",
        "|---|---|---|---|---|\n",
        "|Nivel 1| 1 | 2 | 3 | 4| \n",
        "\n",
        "Entra el vehículo XLC-113\n",
        "\n",
        "|Nivel 2| XLC-113 | MAL-543 | EPM-765 | NAR-110| \n",
        "|---|---|---|---|---|\n",
        "|Nivel 1| 1 | 2 | 3 | 4| \n",
        "\n",
        "Entra el vehículo XLC-113\n",
        "\n",
        "|Nivel 2| XLC-113 | MAL-543 | EPM-765 | NAR-110| \n",
        "|---|---|---|---|---|\n",
        "|Nivel 1| 1 | 2 | 3 | 4| \n",
        "\n",
        "Sale el vehículo MAL-543\n",
        "\n",
        "|Nivel 2| XLC-113 | 2 | EPM-765 | NAR-110| \n",
        "|---|---|---|---|---|\n",
        "|Nivel 1| 1 | 2 | 3 | 4\n",
        "\n",
        "Entra el vehículo EPN-554\n",
        "\n",
        "|Nivel 2| XLC-113 | EPN-554 | EPM-765 | NAR-110| \n",
        "|---|---|---|---|---|\n",
        "|Nivel 1| 1 | 2 | 3 | 4| \n",
        "\n",
        "\n",
        "**Subproblemas**\n",
        "En este problema tenemos dos subproblemas principales\n",
        "* Ingresar un vehículo al parqueadero: dada la placa se verifica si hay un puesto disponible en el parqueadero y se le asigna.\n",
        "* Registrar la salida de un vehículo del parqueadero: se debe registrar como disponible el puesto en el que estaba parqueado.\n",
        "\n",
        "Ademças de las funciones anteriores, debemos plantearnos una pregunta muy importnte\n",
        "\n",
        "* ¿Que estructuras de datos podemos utilizar para almacenar la información del parqueadero?´\n",
        "   * Puestos disponibles\n",
        "   * Vehículos parqueados\n",
        "\n",
        "Una vez solucionada esta pregunta debemos definir\n",
        "\n",
        "* ¿Como obtener un puesto libre del parqueadero?\n",
        "* ¿Como se libera un puesto al salir el vehículo?  \n",
        "* ¿Donde se registran los vehículos ingresados?\n",
        "\n",
        "# Diseño: estrategia y algoritmos\n",
        "\n",
        "## Estructura de datos para el parqueadero\n",
        "El parqueadero tiene dos colecciones de datos que lo representan: los puestos disponibles y los vehículos parqueados.\n",
        "\n",
        "### Puestos disponibles\n",
        "\n",
        "En el ejemplo podemos ver que cada puesto del parqueadero tiene un numero asociado y está en un nivel específico. Esta información es *inmutable* por lo tanto podemos utilizar una tupla para representarlo.\n",
        "\n",
        "\n"
      ]
    },
    {
      "cell_type": "code",
      "metadata": {
        "id": "c9_8jYCxWIVk"
      },
      "source": [
        "from collections import namedtuple\n",
        "\n",
        "Puesto = namedtuple('Puesto','nivel numero')"
      ],
      "execution_count": null,
      "outputs": []
    },
    {
      "cell_type": "markdown",
      "metadata": {
        "id": "9pcKG4CTWsFq"
      },
      "source": [
        "Un parqueadero está formado por varios puestos que están ocupados o libres, además si analizamos el comportamiento de los puestos, se comporta como una estructura de datos abstracta que conocemos. ¿Puedes darle otra mirada?\n",
        "\n",
        "Se asignan los puestos desde el último nivel y desde el último puesto hasta el primero y cuando se libera un espacio este es el primero en ser ocupado.\n",
        "\n",
        "### Eureka\n",
        "Esto suena a una pila **LIFO** *ultimo en ser desocupado primero en ser asignado*.\n",
        "\n",
        "### Estructuras de datos abstractas\n",
        "Estas estructuras de datos abstractas establecen un comportamiento especifico a través de una serie de funciones que manipulan sus datos. Sin embargo, a diferencia de las listas y diccionarios, las pilas no están predefinidas en Python, por lo tanto debemos implementarlas.\n",
        "\n",
        "### Nota aclaratoria\n",
        "Para resolver el problema debemos tener implementada una pila, no es necesario que analices el código que aparece allí, solo recuerda las funciones sobre pilas.\n",
        "\n",
        "\n"
      ]
    },
    {
      "cell_type": "code",
      "metadata": {
        "id": "pHVASg-vs0e1"
      },
      "source": [
        "class Stack:\n",
        "    def __init__(self):\n",
        "        \"\"\"\n",
        "        Initializing Stack.\n",
        "        \"\"\"\n",
        "        self.stack = []\n",
        "    def isEmpty(self):\n",
        "        return True if len(self.stack) == 0 else False\n",
        "    def length(self):\n",
        "        return len(self.stack)\n",
        "    def top(self) -> int:\n",
        "        return self.stack[-1]  \n",
        "    def push(self, x):\n",
        "        self.x = x\n",
        "        self.stack.append(x)       \n",
        "    def pop(self):\n",
        "        self.stack.pop()"
      ],
      "execution_count": null,
      "outputs": []
    },
    {
      "cell_type": "markdown",
      "metadata": {
        "id": "cTikqER2cfpH"
      },
      "source": [
        "## Creación de los puestos disponibles \n",
        "Vamos a definir una función que cree una estructura de datos para los puestos disponibles del parqueadero en una pila con tuplas de puestos, para ello necesitamos el número de niveles y la cantidad de puestos en cada uno.  \n"
      ]
    },
    {
      "cell_type": "code",
      "metadata": {
        "id": "Y-3r4bH3qSy8"
      },
      "source": [
        "def crear_parqueadero(numero_niveles,cantidad_puestos):\n",
        "  parqueadero=Stack()\n",
        "  cont_niveles=1\n",
        "  while cont_niveles <= numero_niveles:\n",
        "    cont_vehiculos=1\n",
        "    while cont_vehiculos <= cantidad_puestos:\n",
        "      parqueadero.push(Puesto(cont_niveles,cont_vehiculos))\n",
        "      cont_vehiculos+=1\n",
        "    cont_niveles+=1\n",
        "  return parqueadero\n",
        "\n",
        "\n",
        "\n",
        "\n"
      ],
      "execution_count": null,
      "outputs": []
    },
    {
      "cell_type": "markdown",
      "metadata": {
        "id": "JuGBWOCckG6x"
      },
      "source": [
        "## Funciones basicas sobre los puestos disponibles\n",
        "Las funciones básicas sobre la pila que representa al parqueadero son\n",
        "*   Obtener puesto libre : Obtiene el primer puesto disponible para parquear de la pila\n",
        "*   Ingresar puesto libre : Ingresa un puesto que queda disponible a la pila\n",
        "\n"
      ]
    },
    {
      "cell_type": "code",
      "metadata": {
        "id": "a7AZxAZMf5eB"
      },
      "source": [
        "def obtener_puesto_libre(parqueadero):\n",
        "  puesto= parqueadero.top()\n",
        "  parqueadero.pop()\n",
        "  return puesto\n",
        "\n",
        "def ingresar_puesto_libre(parqueadero,puesto):\n",
        "  parqueadero.push(puesto)\n",
        "\n",
        "\n",
        "\n"
      ],
      "execution_count": null,
      "outputs": []
    },
    {
      "cell_type": "markdown",
      "metadata": {
        "id": "qNeDasyMs8jO"
      },
      "source": [
        "## Vehiculos parqueados\n",
        "Un vehiculo parqueado en un puesto se identifica con una placa y las placas son únicas por cada vehículo. Esto suena a una estructura de datos que ya conocemos, ¿la recuerdas?, \n",
        "\n",
        "**una pista**: necesitamos almacenar una llave y un llave y un valor   \n",
        " Por lo tanto \n"
      ]
    },
    {
      "cell_type": "code",
      "metadata": {
        "id": "S-RmSXgt1PH2"
      },
      "source": [
        "import typing\n",
        "vehiculos_en_parqueadero=typing.Dict[str, str]\n"
      ],
      "execution_count": null,
      "outputs": []
    },
    {
      "cell_type": "markdown",
      "metadata": {
        "id": "c7U0Q7UF3mdD"
      },
      "source": [
        "### Funciones principales\n",
        "\n",
        "El funcionamiento del parqueadero para los vehículos tiene solo dos funciones principales:\n",
        "*  Ocupar puesto: dada la placa del vehículo, quita el primer puesto disponible de la pila de puestos disponibles y lo adiciona al diccionario de vehículos parqueados.\n",
        "\n",
        "*  Liberar puesto: dada la placa del vehículo a salir del parqueadero lo quita de la lista de vehículos parqueados y adiciona el puesto a la pila de puestos disponibles.\n",
        " "
      ]
    },
    {
      "cell_type": "code",
      "metadata": {
        "id": "W4Owmm4qsV5P"
      },
      "source": [
        "def ocupar_puesto_parqueadero(placa,parqueadero,vehiculos_en_parqueadero): \n",
        "  if vehiculos_en_parqueadero.get(placa)==None:\n",
        "    puesto_libre=obtener_puesto_libre(parqueadero)\n",
        "    vehiculos_en_parqueadero[placa]=puesto_libre\n",
        "    return placa,puesto_libre\n",
        "  else:\n",
        "    return None\n",
        "\n",
        "def liberar_puesto_parqueadero(placa,parqueadero,vehiculos_en_parqueadero):\n",
        "  if vehiculos_en_parqueadero.get(placa)!=None:\n",
        "    puesto_libre=vehiculos_en_parqueadero[placa]\n",
        "    del vehiculos_en_parqueadero[placa]\n",
        "    ingresar_puesto_libre(parqueadero,puesto_libre)\n",
        "\n",
        "\n"
      ],
      "execution_count": null,
      "outputs": []
    },
    {
      "cell_type": "markdown",
      "metadata": {
        "id": "0mV4XF1wvo2O"
      },
      "source": [
        "## Hagamos una prueba básica\n",
        "\n",
        "Parece que ya tenemos todo listo, probemos las funciones con los datos del ejemplo\n"
      ]
    },
    {
      "cell_type": "code",
      "metadata": {
        "colab": {
          "base_uri": "https://localhost:8080/"
        },
        "id": "oRhLuHB-vnaX",
        "outputId": "0ce26a90-ba2e-4064-f322-99cd6445bfe7"
      },
      "source": [
        "vehiculos_en_parqueadero={}\n",
        "memo_park=crear_parqueadero(2,4)\n",
        "\n",
        "puesto_asignado=ocupar_puesto_parqueadero(\"NAR-110\",memo_park,vehiculos_en_parqueadero)\n",
        "print(\"Puesto Asignado\",puesto_asignado)\n",
        "puesto_asignado=ocupar_puesto_parqueadero(\"EPM-765\",memo_park,vehiculos_en_parqueadero)\n",
        "print(\"Puesto Asignado\",puesto_asignado)\n",
        "puesto_asignado=ocupar_puesto_parqueadero(\"MAL-543\",memo_park,vehiculos_en_parqueadero)\n",
        "print(\"Puesto Asignado\",puesto_asignado)\n",
        "puesto_asignado=ocupar_puesto_parqueadero(\"XLC-113\",memo_park,vehiculos_en_parqueadero)\n",
        "print(\"Puesto Asignado\",puesto_asignado)\n",
        "liberar_puesto_parqueadero(\"MAL-543\",memo_park,vehiculos_en_parqueadero)\n",
        "puesto_asignado=ocupar_puesto_parqueadero(\"EPN-554\",memo_park,vehiculos_en_parqueadero)\n",
        "print(\"Puesto Asignado\",puesto_asignado)"
      ],
      "execution_count": null,
      "outputs": [
        {
          "output_type": "stream",
          "text": [
            "Puesto Asignado ('NAR-110', Puesto(nivel=2, numero=4))\n",
            "Puesto Asignado ('EPM-765', Puesto(nivel=2, numero=3))\n",
            "Puesto Asignado ('MAL-543', Puesto(nivel=2, numero=2))\n",
            "Puesto Asignado ('XLC-113', Puesto(nivel=2, numero=1))\n",
            "Puesto Asignado ('EPN-554', Puesto(nivel=2, numero=2))\n"
          ],
          "name": "stdout"
        }
      ]
    },
    {
      "cell_type": "markdown",
      "metadata": {
        "id": "66Nx53e47tjw"
      },
      "source": [
        "# ¿Y eso es todo?\n",
        "\n",
        "Casi que lo es, pero en el taller que está en rep.it sugeriremos algunas mejoras ara que las discutas y habla con tu formador/tutor"
      ]
    },
    {
      "cell_type": "markdown",
      "metadata": {
        "id": "194XEETf8j2x"
      },
      "source": [
        "---\n",
        "FIN DEL LABORATORIO\n",
        "---"
      ]
    }
  ]
}