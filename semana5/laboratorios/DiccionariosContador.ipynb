{
  "nbformat": 4,
  "nbformat_minor": 0,
  "metadata": {
    "colab": {
      "name": "DiccionariosContador.ipynb",
      "provenance": [],
      "collapsed_sections": []
    },
    "kernelspec": {
      "name": "python3",
      "display_name": "Python 3"
    },
    "language_info": {
      "name": "python"
    }
  },
  "cells": [
    {
      "cell_type": "markdown",
      "metadata": {
        "id": "o_G7KwChTZYz"
      },
      "source": [
        "# Laboratorio 5.4\n",
        "Elaborado por Oscar Franco-Bedoya\n",
        "\n",
        "\n",
        "`Proyecto Mision TIC 2021\n",
        "\n",
        "# Objetivo\n",
        "Realizar una serie de ejercicios prácticos para aplicar el concepto de diccionarios\n",
        "\n",
        "## Contador de palabras\n",
        "\n",
        "Cuadro se desea analizar un texto uno de las primeras actividades es contar la frecuencia de cada palabra, es decir el número de veces que aparece cada palabra en un texto.\n",
        "\n",
        "### Obtener las palabras\n",
        "La primera función que vamos a realizar es una que nos permita obtener las palabras de un texto.\n",
        "\n",
        "#### Texto\n",
        "\n",
        "Para probar nuestra aplicación vamos a utilizar un párrafo del libro *el Quijote*:\n",
        "\n",
        "Todo eso pudiera ser, Sancho replicó don Quijote, pero no es así; porque lo que he contado lo vi por mis propios ojos y lo toqué con mis mismas manos. Pero, qué dirás cuando te diga yo ahora cómo, entre otras infinitas cosas y maravillas que me mostró Montesinos las cuales despacio y a sus tiempos te las iré contando en el discurso de nuestro viaje, por no ser todas deste lugar, me mostró tres labradoras que por aquellos amenísimos campos iban saltando y brincando como cabras, y apenas las hube visto, cuando conocí ser la una la sin par Dulcinea del Toboso, y las otras dos aquellas mismas labradoras que venían con ella, que hablamos a la salida del Toboso Pregunté a Montesinos si las conocía; respondióme que no, pero que él imaginaba que debían de ser algunas señoras principales encantadas, que pocos días había que en aquellos prados habían parecido; y que no me maravillase desto, porque allí estaban otras muchas señoras de los pasados y presentes siglos, encantadas en diferentes y estrañas figuras, entre las cuales conocía él a la reina Ginebra y su dueña Quintañona, escanciando el vino a Lanzarote.\n",
        "\n",
        "\n",
        "\n"
      ]
    },
    {
      "cell_type": "code",
      "metadata": {
        "id": "lSFBNLqBlBp_"
      },
      "source": [
        "#Concatenación de cadenas para almacenar el texto\n",
        "\n",
        "texto=\"Todo eso pudiera ser, Sancho replicó don Quijote, pero no es así; porque lo que he contado lo vi por mis propios ojos y lo toqué con mis\\n\" \n",
        "texto+=\"mismas manos. Pero, qué dirás cuando te diga yo ahora cómo, entre otras infinitas cosas y maravillas que me mostró Montesinos las cuales\\n\"\n",
        "texto+=\"despacio y a sus tiempos te las iré contando en el discurso de nuestro viaje, por no ser todas deste lugar, me mostró tres labradoras que por\\n\"\n",
        "texto+=\"aquellos amenísimos campos iban saltando y brincando como cabras, y apenas las hube visto, cuando conocí ser la una la sin par Dulcinea del\\n\"\n",
        "texto+=\"Toboso, y las otras dos aquellas mismas labradoras que venían con ella, que hablamos a la salida del Toboso Pregunté a Montesinos si las\\n\"\n",
        "texto+=\"conocía; respondióme que no, pero que él imaginaba que debían de ser algunas señoras principales encantadas, que pocos días había que en\\n\"\n",
        "texto+=\"aquellos prados habían parecido; y que no me maravillase desto, porque allí estaban otras muchas señoras de los pasados y presentes siglos,\\n\"\n",
        "texto+=\"encantadas en diferentes y estrañas figuras, entre las cuales conocía él a la reina Ginebra y su dueña Quintañona, escanciando el vino a Lanzarote.\"\n",
        "\n",
        "print(texto)"
      ],
      "execution_count": null,
      "outputs": []
    },
    {
      "cell_type": "markdown",
      "metadata": {
        "id": "v00zOZzimXIv"
      },
      "source": [
        "#### Separando las palabras\n",
        "Ya hemos hablado sobre no reinventar la rueda y utilizar funciones predefinidas en librerías de Python.\n",
        "\n",
        "Vamos a utilizar una función de la librería re (Regular Expressions) que permite obtener una lista de subcadenas de una cadena definiendo un separador. \n",
        "En nuestra función utilizaremos como separadores espacios, comas, puntos y tabuladores, ya que queremos obtener las palabras.\n",
        " "
      ]
    },
    {
      "cell_type": "code",
      "metadata": {
        "id": "0LQ2dcCbhT5U"
      },
      "source": [
        "import re\n",
        "\n",
        "def obtener_palabras(texto):\n",
        "  lista_palabras=re.split('[\\b\\s+\\,\\.\\;\\t]+',texto)\n",
        "  return lista_palabras\n",
        "\n",
        "#====================================================================\n",
        "#   Algoritmo principal Punto de entrada a la aplicación \n",
        "# ===================================================================\n",
        "\n",
        "\n",
        "obtener_palabras(texto)\n",
        "\n"
      ],
      "execution_count": null,
      "outputs": []
    },
    {
      "cell_type": "markdown",
      "metadata": {
        "id": "fs-Kk2pXqyTY"
      },
      "source": [
        "### Contar las palabras\n",
        "Para contar las palabras vamos a utilizar un diccionario en donde la llave será la palabra y el valor será la frecuencia. \n",
        " \n",
        "la estrategia es muy simple, iremos recorriendo la lista de palabras y si es la primera vez que la encontramos la agregamos al diccionario, si ya estaba en el diccionario aumentamos su frecuencia en 1.\n",
        "\n",
        "\n"
      ]
    },
    {
      "cell_type": "code",
      "metadata": {
        "id": "fOEMOeuBcEjf"
      },
      "source": [
        "\n",
        "def frecuencia_palabras(lista_palabras):\n",
        "  tabla_frecuencias={} # Crea el diccionario\n",
        "  for palabra in lista_palabras:  # Recorre completamente la lista de palabras una a una \n",
        "    if tabla_frecuencias.get(palabra)==None:  # Si la palabra (llave) no esta en el diccionario\n",
        "      tabla_frecuencias[palabra]=1 # La adiciona\n",
        "    else:\n",
        "      tabla_frecuencias[palabra]+=1   # Como ya esta en el diccionario aumenta su frecuencia en 1\n",
        "  return tabla_frecuencias\n",
        "\n",
        "#====================================================================\n",
        "#   Algoritmo principal Punto de entrada a la aplicación \n",
        "# ===================================================================\n",
        "\n",
        "\n",
        "lista_palabras=obtener_palabras(texto)\n",
        "frecuencias=frecuencia_palabras(lista_palabras)\n",
        "print(frecuencias)\n",
        "\n",
        "\n"
      ],
      "execution_count": null,
      "outputs": []
    },
    {
      "cell_type": "markdown",
      "metadata": {
        "id": "28V6HK2ztACm"
      },
      "source": [
        "# Mejorando la aplicación\n",
        "Aunque el programa parece estar funcionando bien, podemos mejorarlo si:\n",
        "*  Convierte las palabras de la lista a mayúsculas para evitar duplicados por diferencias de este tipo.\n",
        "*  Existen una serie de palabras en un lenguaje llamadas palabras vacías que, desde el punto de vista analítico no son útiles, entre ellas están:\n",
        "\n",
        "un\n",
        "\n",
        "una\n",
        "\n",
        "unas\n",
        "\n",
        "unos\n",
        "\n",
        "uno\n",
        "\n",
        "el\n",
        "\n",
        "la\n",
        "\n",
        "lo\n",
        "\n",
        "las\n",
        "\n",
        "los\n",
        "\n",
        "ellos\n",
        "\n",
        "ellas\n",
        "\n",
        "nos\n",
        "\n",
        "nosotros\n",
        "\n",
        "vosotros\n",
        "\n",
        "vosotras\n",
        "\n",
        "algún\n",
        "\n",
        "alguno\n",
        "\n",
        "alguna\n",
        "\n",
        "algunos\n",
        "\n",
        "algunas\n",
        "\n",
        "ser\n",
        "\n",
        "es\n",
        "\n",
        "soy\n",
        "\n",
        "eres\n",
        "\n",
        "somos\n",
        "\n",
        "estoy\n",
        "\n",
        "esta\n",
        "\n",
        "estamos\n",
        "\n",
        "estais\n",
        "\n",
        "estan\n",
        "\n",
        "como\n",
        "\n",
        "en\n",
        "\n",
        "para\n",
        "\n",
        "atras\n",
        "\n",
        "porque\n",
        "\n",
        "estado\n",
        "\n",
        "estaba\n",
        "\n",
        "ante\n",
        "\n",
        "antes\n",
        "\n",
        "siendo\n",
        "\n",
        "ambos\n",
        "\n",
        "pero\n",
        "\n",
        "por\n",
        "\n",
        "poder\n",
        "\n",
        "\n",
        "puede\n",
        "\n",
        "puedo\n",
        "\n",
        "podemos\n",
        "\n",
        "podeis\n",
        "\n",
        "*  La idea es pensar una estrategia para no tenerlas en cuenta en el conteo.\n",
        "\n",
        "## Pregunta a tu formador/tutor sobre como resolver este laboratorio\n",
        "\n",
        "\n"
      ]
    },
    {
      "cell_type": "code",
      "metadata": {
        "id": "C1dnFmd-xV0c"
      },
      "source": [
        "#TODO: Pon tu código aqui"
      ],
      "execution_count": null,
      "outputs": []
    }
  ]
}