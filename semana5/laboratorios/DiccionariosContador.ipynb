{
  "cells": [
    {
      "cell_type": "markdown",
      "metadata": {
        "id": "o_G7KwChTZYz"
      },
      "source": [
        "# Laboratorio 5.4\n",
        "Elaborado por Oscar Franco-Bedoya\n",
        "\n",
        "\n",
        "`Proyecto Mision TIC 2021\n",
        "\n",
        "# Objetivo\n",
        "Realizar una serie de ejercicios prácticos para aplicar el concepto de diccionarios\n",
        "\n",
        "## Contador de palabras\n",
        "\n",
        "Cuadro se desea analizar un texto uno de las primeras actividades es contar la frecuencia de cada palabra, es decir el número de veces que aparece cada palabra en un texto.\n",
        "\n",
        "### Obtener las palabras\n",
        "La primera función que vamos a realizar es una que nos permita obtener las palabras de un texto.\n",
        "\n",
        "#### Texto\n",
        "\n",
        "Para probar nuestra aplicación vamos a utilizar un párrafo del libro *el Quijote*:\n",
        "\n",
        "Todo eso pudiera ser, Sancho replicó don Quijote, pero no es así; porque lo que he contado lo vi por mis propios ojos y lo toqué con mis mismas manos. Pero, qué dirás cuando te diga yo ahora cómo, entre otras infinitas cosas y maravillas que me mostró Montesinos las cuales despacio y a sus tiempos te las iré contando en el discurso de nuestro viaje, por no ser todas deste lugar, me mostró tres labradoras que por aquellos amenísimos campos iban saltando y brincando como cabras, y apenas las hube visto, cuando conocí ser la una la sin par Dulcinea del Toboso, y las otras dos aquellas mismas labradoras que venían con ella, que hablamos a la salida del Toboso Pregunté a Montesinos si las conocía; respondióme que no, pero que él imaginaba que debían de ser algunas señoras principales encantadas, que pocos días había que en aquellos prados habían parecido; y que no me maravillase desto, porque allí estaban otras muchas señoras de los pasados y presentes siglos, encantadas en diferentes y estrañas figuras, entre las cuales conocía él a la reina Ginebra y su dueña Quintañona, escanciando el vino a Lanzarote.\n",
        "\n",
        "\n",
        "\n"
      ]
    },
    {
      "cell_type": "code",
      "execution_count": 2,
      "metadata": {
        "id": "lSFBNLqBlBp_"
      },
      "outputs": [
        {
          "name": "stdout",
          "output_type": "stream",
          "text": [
            "Todo eso pudiera ser, Sancho replicó don Quijote, pero no es así; porque lo que he contado lo vi por mis propios ojos y lo toqué con mis\n",
            "mismas manos. Pero, qué dirás cuando te diga yo ahora cómo, entre otras infinitas cosas y maravillas que me mostró Montesinos las cuales\n",
            "despacio y a sus tiempos te las iré contando en el discurso de nuestro viaje, por no ser todas deste lugar, me mostró tres labradoras que por\n",
            "aquellos amenísimos campos iban saltando y brincando como cabras, y apenas las hube visto, cuando conocí ser la una la sin par Dulcinea del\n",
            "Toboso, y las otras dos aquellas mismas labradoras que venían con ella, que hablamos a la salida del Toboso Pregunté a Montesinos si las\n",
            "conocía; respondióme que no, pero que él imaginaba que debían de ser algunas señoras principales encantadas, que pocos días había que en\n",
            "aquellos prados habían parecido; y que no me maravillase desto, porque allí estaban otras muchas señoras de los pasados y presentes siglos,\n",
            "encantadas en diferentes y estrañas figuras, entre las cuales conocía él a la reina Ginebra y su dueña Quintañona, escanciando el vino a Lanzarote.\n"
          ]
        }
      ],
      "source": [
        "#Concatenación de cadenas para almacenar el texto\n",
        "\n",
        "texto=\"Todo eso pudiera ser, Sancho replicó don Quijote, pero no es así; porque lo que he contado lo vi por mis propios ojos y lo toqué con mis\\n\" \n",
        "texto+=\"mismas manos. Pero, qué dirás cuando te diga yo ahora cómo, entre otras infinitas cosas y maravillas que me mostró Montesinos las cuales\\n\"\n",
        "texto+=\"despacio y a sus tiempos te las iré contando en el discurso de nuestro viaje, por no ser todas deste lugar, me mostró tres labradoras que por\\n\"\n",
        "texto+=\"aquellos amenísimos campos iban saltando y brincando como cabras, y apenas las hube visto, cuando conocí ser la una la sin par Dulcinea del\\n\"\n",
        "texto+=\"Toboso, y las otras dos aquellas mismas labradoras que venían con ella, que hablamos a la salida del Toboso Pregunté a Montesinos si las\\n\"\n",
        "texto+=\"conocía; respondióme que no, pero que él imaginaba que debían de ser algunas señoras principales encantadas, que pocos días había que en\\n\"\n",
        "texto+=\"aquellos prados habían parecido; y que no me maravillase desto, porque allí estaban otras muchas señoras de los pasados y presentes siglos,\\n\"\n",
        "texto+=\"encantadas en diferentes y estrañas figuras, entre las cuales conocía él a la reina Ginebra y su dueña Quintañona, escanciando el vino a Lanzarote.\"\n",
        "\n",
        "print(texto)"
      ]
    },
    {
      "cell_type": "markdown",
      "metadata": {
        "id": "v00zOZzimXIv"
      },
      "source": [
        "#### Separando las palabras\n",
        "Ya hemos hablado sobre no reinventar la rueda y utilizar funciones predefinidas en librerías de Python.\n",
        "\n",
        "Vamos a utilizar una función de la librería re (Regular Expressions) que permite obtener una lista de subcadenas de una cadena definiendo un separador. \n",
        "En nuestra función utilizaremos como separadores espacios, comas, puntos y tabuladores, ya que queremos obtener las palabras.\n",
        " "
      ]
    },
    {
      "cell_type": "code",
      "execution_count": 3,
      "metadata": {
        "id": "0LQ2dcCbhT5U"
      },
      "outputs": [
        {
          "data": {
            "text/plain": "['Todo',\n 'eso',\n 'pudiera',\n 'ser',\n 'Sancho',\n 'replicó',\n 'don',\n 'Quijote',\n 'pero',\n 'no',\n 'es',\n 'así',\n 'porque',\n 'lo',\n 'que',\n 'he',\n 'contado',\n 'lo',\n 'vi',\n 'por',\n 'mis',\n 'propios',\n 'ojos',\n 'y',\n 'lo',\n 'toqué',\n 'con',\n 'mis',\n 'mismas',\n 'manos',\n 'Pero',\n 'qué',\n 'dirás',\n 'cuando',\n 'te',\n 'diga',\n 'yo',\n 'ahora',\n 'cómo',\n 'entre',\n 'otras',\n 'infinitas',\n 'cosas',\n 'y',\n 'maravillas',\n 'que',\n 'me',\n 'mostró',\n 'Montesinos',\n 'las',\n 'cuales',\n 'despacio',\n 'y',\n 'a',\n 'sus',\n 'tiempos',\n 'te',\n 'las',\n 'iré',\n 'contando',\n 'en',\n 'el',\n 'discurso',\n 'de',\n 'nuestro',\n 'viaje',\n 'por',\n 'no',\n 'ser',\n 'todas',\n 'deste',\n 'lugar',\n 'me',\n 'mostró',\n 'tres',\n 'labradoras',\n 'que',\n 'por',\n 'aquellos',\n 'amenísimos',\n 'campos',\n 'iban',\n 'saltando',\n 'y',\n 'brincando',\n 'como',\n 'cabras',\n 'y',\n 'apenas',\n 'las',\n 'hube',\n 'visto',\n 'cuando',\n 'conocí',\n 'ser',\n 'la',\n 'una',\n 'la',\n 'sin',\n 'par',\n 'Dulcinea',\n 'del',\n 'Toboso',\n 'y',\n 'las',\n 'otras',\n 'dos',\n 'aquellas',\n 'mismas',\n 'labradoras',\n 'que',\n 'venían',\n 'con',\n 'ella',\n 'que',\n 'hablamos',\n 'a',\n 'la',\n 'salida',\n 'del',\n 'Toboso',\n 'Pregunté',\n 'a',\n 'Montesinos',\n 'si',\n 'las',\n 'conocía',\n 'respondióme',\n 'que',\n 'no',\n 'pero',\n 'que',\n 'él',\n 'imaginaba',\n 'que',\n 'debían',\n 'de',\n 'ser',\n 'algunas',\n 'señoras',\n 'principales',\n 'encantadas',\n 'que',\n 'pocos',\n 'días',\n 'había',\n 'que',\n 'en',\n 'aquellos',\n 'prados',\n 'habían',\n 'parecido',\n 'y',\n 'que',\n 'no',\n 'me',\n 'maravillase',\n 'desto',\n 'porque',\n 'allí',\n 'estaban',\n 'otras',\n 'muchas',\n 'señoras',\n 'de',\n 'los',\n 'pasados',\n 'y',\n 'presentes',\n 'siglos',\n 'encantadas',\n 'en',\n 'diferentes',\n 'y',\n 'estrañas',\n 'figuras',\n 'entre',\n 'las',\n 'cuales',\n 'conocía',\n 'él',\n 'a',\n 'la',\n 'reina',\n 'Ginebra',\n 'y',\n 'su',\n 'dueña',\n 'Quintañona',\n 'escanciando',\n 'el',\n 'vino',\n 'a',\n 'Lanzarote',\n '']"
          },
          "execution_count": 3,
          "metadata": {},
          "output_type": "execute_result"
        }
      ],
      "source": [
        "import re\n",
        "\n",
        "def obtener_palabras(texto):\n",
        "  lista_palabras=re.split('[\\b\\s+\\,\\.\\;\\t]+',texto)\n",
        "  return lista_palabras\n",
        "\n",
        "#====================================================================\n",
        "#   Algoritmo principal Punto de entrada a la aplicación \n",
        "# ===================================================================\n",
        "\n",
        "\n",
        "obtener_palabras(texto)\n",
        "\n"
      ]
    },
    {
      "cell_type": "markdown",
      "metadata": {
        "id": "fs-Kk2pXqyTY"
      },
      "source": [
        "### Contar las palabras\n",
        "Para contar las palabras vamos a utilizar un diccionario en donde la llave será la palabra y el valor será la frecuencia. \n",
        " \n",
        "la estrategia es muy simple, iremos recorriendo la lista de palabras y si es la primera vez que la encontramos la agregamos al diccionario, si ya estaba en el diccionario aumentamos su frecuencia en 1.\n",
        "\n",
        "\n"
      ]
    },
    {
      "cell_type": "code",
      "execution_count": 4,
      "metadata": {
        "id": "fOEMOeuBcEjf"
      },
      "outputs": [
        {
          "name": "stdout",
          "output_type": "stream",
          "text": [
            "{'Todo': 1, 'eso': 1, 'pudiera': 1, 'ser': 4, 'Sancho': 1, 'replicó': 1, 'don': 1, 'Quijote': 1, 'pero': 2, 'no': 4, 'es': 1, 'así': 1, 'porque': 2, 'lo': 3, 'que': 11, 'he': 1, 'contado': 1, 'vi': 1, 'por': 3, 'mis': 2, 'propios': 1, 'ojos': 1, 'y': 10, 'toqué': 1, 'con': 2, 'mismas': 2, 'manos': 1, 'Pero': 1, 'qué': 1, 'dirás': 1, 'cuando': 2, 'te': 2, 'diga': 1, 'yo': 1, 'ahora': 1, 'cómo': 1, 'entre': 2, 'otras': 3, 'infinitas': 1, 'cosas': 1, 'maravillas': 1, 'me': 3, 'mostró': 2, 'Montesinos': 2, 'las': 6, 'cuales': 2, 'despacio': 1, 'a': 5, 'sus': 1, 'tiempos': 1, 'iré': 1, 'contando': 1, 'en': 3, 'el': 2, 'discurso': 1, 'de': 3, 'nuestro': 1, 'viaje': 1, 'todas': 1, 'deste': 1, 'lugar': 1, 'tres': 1, 'labradoras': 2, 'aquellos': 2, 'amenísimos': 1, 'campos': 1, 'iban': 1, 'saltando': 1, 'brincando': 1, 'como': 1, 'cabras': 1, 'apenas': 1, 'hube': 1, 'visto': 1, 'conocí': 1, 'la': 4, 'una': 1, 'sin': 1, 'par': 1, 'Dulcinea': 1, 'del': 2, 'Toboso': 2, 'dos': 1, 'aquellas': 1, 'venían': 1, 'ella': 1, 'hablamos': 1, 'salida': 1, 'Pregunté': 1, 'si': 1, 'conocía': 2, 'respondióme': 1, 'él': 2, 'imaginaba': 1, 'debían': 1, 'algunas': 1, 'señoras': 2, 'principales': 1, 'encantadas': 2, 'pocos': 1, 'días': 1, 'había': 1, 'prados': 1, 'habían': 1, 'parecido': 1, 'maravillase': 1, 'desto': 1, 'allí': 1, 'estaban': 1, 'muchas': 1, 'los': 1, 'pasados': 1, 'presentes': 1, 'siglos': 1, 'diferentes': 1, 'estrañas': 1, 'figuras': 1, 'reina': 1, 'Ginebra': 1, 'su': 1, 'dueña': 1, 'Quintañona': 1, 'escanciando': 1, 'vino': 1, 'Lanzarote': 1, '': 1}\n"
          ]
        }
      ],
      "source": [
        "\n",
        "def frecuencia_palabras(lista_palabras):\n",
        "  tabla_frecuencias={} # Crea el diccionario\n",
        "  for palabra in lista_palabras:  # Recorre completamente la lista de palabras una a una \n",
        "    if tabla_frecuencias.get(palabra)==None:  # Si la palabra (llave) no esta en el diccionario\n",
        "      tabla_frecuencias[palabra] = 1 # La adiciona\n",
        "    else:\n",
        "      tabla_frecuencias[palabra] += 1   # Como ya esta en el diccionario aumenta su frecuencia en 1\n",
        "  return tabla_frecuencias\n",
        "\n",
        "#====================================================================\n",
        "#   Algoritmo principal Punto de entrada a la aplicación \n",
        "# ===================================================================\n",
        "\n",
        "\n",
        "lista_palabras=obtener_palabras(texto)\n",
        "frecuencias=frecuencia_palabras(lista_palabras)\n",
        "print(frecuencias)\n",
        "\n",
        "\n"
      ]
    },
    {
      "cell_type": "markdown",
      "metadata": {
        "id": "28V6HK2ztACm"
      },
      "source": [
        "# Mejorando la aplicación\n",
        "Aunque el programa parece estar funcionando bien, podemos mejorarlo si:\n",
        "*  Convierte las palabras de la lista a mayúsculas para evitar duplicados por diferencias de este tipo.\n",
        "*  Existen una serie de palabras en un lenguaje llamadas palabras vacías que, desde el punto de vista analítico no son útiles, entre ellas están:\n",
        "\n",
        "un\n",
        "\n",
        "una\n",
        "\n",
        "unas\n",
        "\n",
        "unos\n",
        "\n",
        "uno\n",
        "\n",
        "el\n",
        "\n",
        "la\n",
        "\n",
        "lo\n",
        "\n",
        "las\n",
        "\n",
        "los\n",
        "\n",
        "ellos\n",
        "\n",
        "ellas\n",
        "\n",
        "nos\n",
        "\n",
        "nosotros\n",
        "\n",
        "vosotros\n",
        "\n",
        "vosotras\n",
        "\n",
        "algún\n",
        "\n",
        "alguno\n",
        "\n",
        "alguna\n",
        "\n",
        "algunos\n",
        "\n",
        "algunas\n",
        "\n",
        "ser\n",
        "\n",
        "es\n",
        "\n",
        "soy\n",
        "\n",
        "eres\n",
        "\n",
        "somos\n",
        "\n",
        "estoy\n",
        "\n",
        "esta\n",
        "\n",
        "estamos\n",
        "\n",
        "estais\n",
        "\n",
        "estan\n",
        "\n",
        "como\n",
        "\n",
        "en\n",
        "\n",
        "para\n",
        "\n",
        "atras\n",
        "\n",
        "porque\n",
        "\n",
        "estado\n",
        "\n",
        "estaba\n",
        "\n",
        "ante\n",
        "\n",
        "antes\n",
        "\n",
        "siendo\n",
        "\n",
        "ambos\n",
        "\n",
        "pero\n",
        "\n",
        "por\n",
        "\n",
        "poder\n",
        "\n",
        "\n",
        "puede\n",
        "\n",
        "puedo\n",
        "\n",
        "podemos\n",
        "\n",
        "podeis\n",
        "\n",
        "*  La idea es pensar una estrategia para no tenerlas en cuenta en el conteo.\n",
        "\n",
        "## Pregunta a tu formador/tutor sobre como resolver este laboratorio\n",
        "\n",
        "\n"
      ]
    },
    {
      "cell_type": "code",
      "execution_count": 6,
      "metadata": {
        "id": "C1dnFmd-xV0c"
      },
      "outputs": [
        {
          "name": "stdout",
          "output_type": "stream",
          "text": [
            "{'TODO': 1, 'ESO': 1, 'PUDIERA': 1, 'SER': 4, 'SANCHO': 1, 'REPLICÓ': 1, 'DON': 1, 'QUIJOTE': 1, 'PERO': 3, 'NO': 4, 'ES': 1, 'ASÍ': 1, 'PORQUE': 2, 'LO': 3, 'QUE': 11, 'HE': 1, 'CONTADO': 1, 'VI': 1, 'POR': 3, 'MIS': 2, 'PROPIOS': 1, 'OJOS': 1, 'Y': 10, 'TOQUÉ': 1, 'CON': 2, 'MISMAS': 2, 'MANOS': 1, 'QUÉ': 1, 'DIRÁS': 1, 'CUANDO': 2, 'TE': 2, 'DIGA': 1, 'YO': 1, 'AHORA': 1, 'CÓMO': 1, 'ENTRE': 2, 'OTRAS': 3, 'INFINITAS': 1, 'COSAS': 1, 'MARAVILLAS': 1, 'ME': 3, 'MOSTRÓ': 2, 'MONTESINOS': 2, 'LAS': 6, 'CUALES': 2, 'DESPACIO': 1, 'A': 5, 'SUS': 1, 'TIEMPOS': 1, 'IRÉ': 1, 'CONTANDO': 1, 'EN': 3, 'EL': 2, 'DISCURSO': 1, 'DE': 3, 'NUESTRO': 1, 'VIAJE': 1, 'TODAS': 1, 'DESTE': 1, 'LUGAR': 1, 'TRES': 1, 'LABRADORAS': 2, 'AQUELLOS': 2, 'AMENÍSIMOS': 1, 'CAMPOS': 1, 'IBAN': 1, 'SALTANDO': 1, 'BRINCANDO': 1, 'COMO': 1, 'CABRAS': 1, 'APENAS': 1, 'HUBE': 1, 'VISTO': 1, 'CONOCÍ': 1, 'LA': 4, 'UNA': 1, 'SIN': 1, 'PAR': 1, 'DULCINEA': 1, 'DEL': 2, 'TOBOSO': 2, 'DOS': 1, 'AQUELLAS': 1, 'VENÍAN': 1, 'ELLA': 1, 'HABLAMOS': 1, 'SALIDA': 1, 'PREGUNTÉ': 1, 'SI': 1, 'CONOCÍA': 2, 'RESPONDIÓME': 1, 'ÉL': 2, 'IMAGINABA': 1, 'DEBÍAN': 1, 'ALGUNAS': 1, 'SEÑORAS': 2, 'PRINCIPALES': 1, 'ENCANTADAS': 2, 'POCOS': 1, 'DÍAS': 1, 'HABÍA': 1, 'PRADOS': 1, 'HABÍAN': 1, 'PARECIDO': 1, 'MARAVILLASE': 1, 'DESTO': 1, 'ALLÍ': 1, 'ESTABAN': 1, 'MUCHAS': 1, 'LOS': 1, 'PASADOS': 1, 'PRESENTES': 1, 'SIGLOS': 1, 'DIFERENTES': 1, 'ESTRAÑAS': 1, 'FIGURAS': 1, 'REINA': 1, 'GINEBRA': 1, 'SU': 1, 'DUEÑA': 1, 'QUINTAÑONA': 1, 'ESCANCIANDO': 1, 'VINO': 1, 'LANZAROTE': 1, '': 1}\n"
          ]
        }
      ],
      "source": [
        "def frecuencia_palabras(lista_palabras):\n",
        "  tabla_frecuencias={} # Crea el diccionario\n",
        "  for palabra in lista_palabras:  # Recorre completamente la lista de palabras una a una \n",
        "    if tabla_frecuencias.get(palabra) == None:  # Si la palabra (llave) no esta en el diccionario\n",
        "      tabla_frecuencias[palabra] = 1 # La adiciona\n",
        "    else:\n",
        "      tabla_frecuencias[palabra] += 1   # Como ya esta en el diccionario aumenta su frecuencia en 1\n",
        "  return tabla_frecuencias\n",
        "\n",
        "#====================================================================\n",
        "#   Algoritmo principal Punto de entrada a la aplicación \n",
        "# ===================================================================\n",
        "\n",
        "\n",
        "lista_palabras=obtener_palabras(texto)\n",
        "mayus_lista_palabras = [palabra.upper() for palabra in lista_palabras]\n",
        "frecuencias=frecuencia_palabras(mayus_lista_palabras)\n",
        "print(frecuencias)"
      ]
    }
  ],
  "metadata": {
    "kernelspec": {
      "display_name": "Python 3.8.10 64-bit ('base': conda)",
      "name": "python3810jvsc74a57bd06ef24a4c262c4b7385935bcdefc3d4aed883aef8d306cecf48139a9196195a8b"
    },
    "language_info": {
      "codemirror_mode": {
        "name": "ipython",
        "version": 3
      },
      "file_extension": ".py",
      "mimetype": "text/x-python",
      "name": "python",
      "nbconvert_exporter": "python",
      "pygments_lexer": "ipython3",
      "version": "3.8.10"
    },
    "orig_nbformat": 3
  },
  "nbformat": 4,
  "nbformat_minor": 0
}