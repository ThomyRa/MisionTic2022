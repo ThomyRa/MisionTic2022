{
  "nbformat": 4,
  "nbformat_minor": 0,
  "metadata": {
    "colab": {
      "name": "TuplasBasico.ipynb",
      "provenance": [],
      "collapsed_sections": []
    },
    "kernelspec": {
      "name": "python3",
      "display_name": "Python 3"
    },
    "language_info": {
      "name": "python"
    }
  },
  "cells": [
    {
      "cell_type": "markdown",
      "metadata": {
        "id": "7C8RRQdrZN5E"
      },
      "source": [
        "# Laboratorio 5.1\n",
        "Elaborado por Oscar Franco-Bedoya\n",
        "\n",
        "`Proyecto Mision TIC 2021\n",
        "\n",
        "# Objetivo\n",
        "El objetivo de este laboratorio es verificar el funcionamiento las funciones básicas con tuplas.\n",
        "\n",
        "Estos ejercicios están explicados detalladamente en el video asociado\n",
        "\n",
        "#Creación de tuplas\n",
        "## Tuplas vacias\n"
      ]
    },
    {
      "cell_type": "code",
      "metadata": {
        "colab": {
          "base_uri": "https://localhost:8080/"
        },
        "id": "UvLQyLD_ZLxU",
        "outputId": "5ac4edf3-939b-49e4-e23b-892deae0816e"
      },
      "source": [
        "\n",
        "tupla1=()\n",
        "print(type(tupla1))\n",
        "\n",
        "tupla2=tuple()\n",
        "print(type(tupla2))\n",
        "\n",
        "\n"
      ],
      "execution_count": null,
      "outputs": [
        {
          "output_type": "stream",
          "text": [
            "<class 'tuple'>\n",
            "<class 'tuple'>\n"
          ],
          "name": "stdout"
        }
      ]
    },
    {
      "cell_type": "markdown",
      "metadata": {
        "id": "isQ8y_ZfcuQy"
      },
      "source": [
        "## Creación con elementos\n"
      ]
    },
    {
      "cell_type": "code",
      "metadata": {
        "colab": {
          "base_uri": "https://localhost:8080/",
          "height": 299
        },
        "id": "GNqqWi0lagX9",
        "outputId": "41ebdd4f-5d10-455a-81d0-e151953b8e11"
      },
      "source": [
        "circulo1=3,-4,3,\"Blue\" # Empaquetamiento\n",
        "print(type(circulo1))\n",
        "\n",
        "circulo2=(10,5,6,\"Yellow\")\n",
        "print(type(circulo2))\n",
        "\n",
        "circulo3=tuple((2,4,5,\"Green\"))\n",
        "print(type(circulo3))\n",
        "print(circulo1)\n",
        "print(circulo2)\n",
        "print(circulo3)\n"
      ],
      "execution_count": null,
      "outputs": [
        {
          "output_type": "stream",
          "text": [
            "<class 'tuple'>\n",
            "<class 'tuple'>\n",
            "<class 'tuple'>\n",
            "(3, -4, 3, 'Blue')\n",
            "(10, 5, 6, 'Yellow')\n",
            "(2, 4, 5, 'Green')\n"
          ],
          "name": "stdout"
        },
        {
          "output_type": "error",
          "ename": "TypeError",
          "evalue": "ignored",
          "traceback": [
            "\u001b[0;31m---------------------------------------------------------------------------\u001b[0m",
            "\u001b[0;31mTypeError\u001b[0m                                 Traceback (most recent call last)",
            "\u001b[0;32m<ipython-input-13-0999000dc4de>\u001b[0m in \u001b[0;36m<module>\u001b[0;34m()\u001b[0m\n\u001b[1;32m     10\u001b[0m \u001b[0mprint\u001b[0m\u001b[0;34m(\u001b[0m\u001b[0mcirculo2\u001b[0m\u001b[0;34m)\u001b[0m\u001b[0;34m\u001b[0m\u001b[0;34m\u001b[0m\u001b[0m\n\u001b[1;32m     11\u001b[0m \u001b[0mprint\u001b[0m\u001b[0;34m(\u001b[0m\u001b[0mcirculo3\u001b[0m\u001b[0;34m)\u001b[0m\u001b[0;34m\u001b[0m\u001b[0;34m\u001b[0m\u001b[0m\n\u001b[0;32m---> 12\u001b[0;31m \u001b[0mcirculo1\u001b[0m\u001b[0;34m[\u001b[0m\u001b[0;36m0\u001b[0m\u001b[0;34m]\u001b[0m\u001b[0;34m=\u001b[0m\u001b[0;36m2\u001b[0m\u001b[0;34m\u001b[0m\u001b[0;34m\u001b[0m\u001b[0m\n\u001b[0m",
            "\u001b[0;31mTypeError\u001b[0m: 'tuple' object does not support item assignment"
          ]
        }
      ]
    },
    {
      "cell_type": "markdown",
      "metadata": {
        "id": "ntlXyq3wd-PV"
      },
      "source": [
        "## Tupla unitaria"
      ]
    },
    {
      "cell_type": "code",
      "metadata": {
        "id": "3yPaYRZNeDFC",
        "colab": {
          "base_uri": "https://localhost:8080/"
        },
        "outputId": "6c02f35d-16c7-499f-a1aa-36a8f80d89c0"
      },
      "source": [
        "tupla=(8,)\n",
        "print(type(tupla))"
      ],
      "execution_count": null,
      "outputs": [
        {
          "output_type": "stream",
          "text": [
            "<class 'tuple'>\n"
          ],
          "name": "stdout"
        }
      ]
    },
    {
      "cell_type": "markdown",
      "metadata": {
        "id": "r_c5zdMeiMWs"
      },
      "source": [
        "## Acceso a los elementos de la tupla"
      ]
    },
    {
      "cell_type": "code",
      "metadata": {
        "colab": {
          "base_uri": "https://localhost:8080/"
        },
        "id": "b7xZ4vYciUMB",
        "outputId": "775b1663-616f-4a70-b140-5141b84276ab"
      },
      "source": [
        "circulo3=tuple((2,4,5,\"Green\"))\n",
        "print(circulo3[2])\n",
        "print(circulo3[0:2])\n",
        "print(circulo3[-1])"
      ],
      "execution_count": null,
      "outputs": [
        {
          "output_type": "stream",
          "text": [
            "5\n",
            "(2, 4)\n",
            "Green\n"
          ],
          "name": "stdout"
        }
      ]
    },
    {
      "cell_type": "markdown",
      "metadata": {
        "id": "p4HRry9Zi2bN"
      },
      "source": [
        "## Tamaño de la tupla"
      ]
    },
    {
      "cell_type": "code",
      "metadata": {
        "colab": {
          "base_uri": "https://localhost:8080/"
        },
        "id": "V_BJIfvXjB_i",
        "outputId": "6920a2bb-5760-4cff-d121-1b7357390772"
      },
      "source": [
        "len(circulo3)\n",
        "print(circulo3)"
      ],
      "execution_count": null,
      "outputs": [
        {
          "output_type": "stream",
          "text": [
            "(2, 4, 5, 'Green')\n"
          ],
          "name": "stdout"
        }
      ]
    },
    {
      "cell_type": "markdown",
      "metadata": {
        "id": "1piFTdigjKcd"
      },
      "source": [
        "## Desempaquetado de tuplas\n"
      ]
    },
    {
      "cell_type": "code",
      "metadata": {
        "colab": {
          "base_uri": "https://localhost:8080/"
        },
        "id": "iDZ2WLtsjXM9",
        "outputId": "0a73ddd7-6a5e-409c-9b38-dede0cfae092"
      },
      "source": [
        "x,y,radio,color=circulo3 #Desempaquetamiento\n",
        "print(x,y,radio,color)"
      ],
      "execution_count": null,
      "outputs": [
        {
          "output_type": "stream",
          "text": [
            "2 4 5 Green\n"
          ],
          "name": "stdout"
        }
      ]
    },
    {
      "cell_type": "markdown",
      "metadata": {
        "id": "s8poGrPMrsxS"
      },
      "source": [
        "## Retorno de valores "
      ]
    },
    {
      "cell_type": "code",
      "metadata": {
        "colab": {
          "base_uri": "https://localhost:8080/"
        },
        "id": "WLGz6U7LsXwa",
        "outputId": "40a30deb-2548-4afc-e1af-69e6450c3a54"
      },
      "source": [
        "def operaciones_aritmeticas(num1,num2):\n",
        "  s=num1+num2\n",
        "  r=num1-num2\n",
        "  m=num1*num2\n",
        "  d=num1/num2\n",
        "\n",
        "  return s,r,m,d\n",
        "\n",
        "x=operaciones_aritmeticas(10,20)\n",
        "print(type(x))\n",
        "\n",
        "r1,r2,r3,r4 = operaciones_aritmeticas(10,20)\n",
        "print(r1,r2,r3,r4)\n",
        "r1,r2,r3,r4 = x\n",
        "print(r1,r2,r3,r4)"
      ],
      "execution_count": null,
      "outputs": [
        {
          "output_type": "stream",
          "text": [
            "<class 'tuple'>\n",
            "30 -10 200 0.5\n",
            "30 -10 200 0.5\n"
          ],
          "name": "stdout"
        }
      ]
    },
    {
      "cell_type": "markdown",
      "metadata": {
        "id": "02K4GE6Ftu78"
      },
      "source": [
        "## Tuplas como parámetros"
      ]
    },
    {
      "cell_type": "code",
      "metadata": {
        "colab": {
          "base_uri": "https://localhost:8080/"
        },
        "id": "j9SBzjWDuBQX",
        "outputId": "89de4de1-02f1-4cfe-ecb0-a0db6de93b75"
      },
      "source": [
        "import math\n",
        "\n",
        "def area_circulo(circulo:tuple):\n",
        "  radio=circulo[2]\n",
        "  area=2*math.pi*radio\n",
        "  return area \n",
        "\n",
        "area=area_circulo((2,2,2,\"Blue\"))\n",
        "print(area)"
      ],
      "execution_count": null,
      "outputs": [
        {
          "output_type": "stream",
          "text": [
            "12.566370614359172\n"
          ],
          "name": "stdout"
        }
      ]
    },
    {
      "cell_type": "markdown",
      "metadata": {
        "id": "0EkbEBSLzl1u"
      },
      "source": [
        "# Named tuples"
      ]
    },
    {
      "cell_type": "code",
      "metadata": {
        "colab": {
          "base_uri": "https://localhost:8080/"
        },
        "id": "XWet8tvKzq9l",
        "outputId": "afd9c2a2-3a66-4b4e-df37-2416afb05b9a"
      },
      "source": [
        "from collections import namedtuple\n",
        "Circulo=namedtuple('Circulo', ['x', 'y','radio','color']) #Nuevo tipo de datos\n",
        "\n",
        "print(type(Circulo))\n",
        "print(type(int))\n",
        "\n",
        "c1= Circulo(2,3,5,\"Blue\") #Definiendo una variable\n",
        "print(type(c1))\n",
        "\n",
        "print(c1.color)\n"
      ],
      "execution_count": null,
      "outputs": [
        {
          "output_type": "stream",
          "text": [
            "<class 'type'>\n",
            "<class 'type'>\n",
            "<class '__main__.Circulo'>\n",
            "Blue\n"
          ],
          "name": "stdout"
        }
      ]
    },
    {
      "cell_type": "markdown",
      "metadata": {
        "id": "fLCt01auu0F3"
      },
      "source": [
        "---\n",
        "FIN LABORATORIO\n",
        "---\n"
      ]
    }
  ]
}