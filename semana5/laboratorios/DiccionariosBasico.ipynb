{
  "nbformat": 4,
  "nbformat_minor": 0,
  "metadata": {
    "colab": {
      "name": "DiccionariosBasico.ipynb",
      "provenance": [],
      "collapsed_sections": []
    },
    "kernelspec": {
      "name": "python3",
      "display_name": "Python 3"
    },
    "language_info": {
      "name": "python"
    }
  },
  "cells": [
    {
      "cell_type": "markdown",
      "metadata": {
        "id": "8E81IMspPja-"
      },
      "source": [
        "# Laboratorio 5.3\n",
        "Elaborado por Oscar Franco-Bedoya\n",
        "\n",
        "`Proyecto Mision TIC 2021\n",
        "\n",
        "# Objetivo\n",
        "El objetivo de este laboratorio es verificar el funcionamiento las funciones básicas con diccionarios.\n",
        "\n",
        "Estos ejercicios están explicados detalladamente en el video asociado\n",
        "#Creación de diccionarios\n",
        "## Diccionario vacio"
      ]
    },
    {
      "cell_type": "code",
      "metadata": {
        "id": "nm72pGWf3l0Z"
      },
      "source": [
        "Sensores= {}\n",
        "print(type(Sensores))"
      ],
      "execution_count": null,
      "outputs": []
    },
    {
      "cell_type": "markdown",
      "metadata": {
        "id": "wPVsfRA04hls"
      },
      "source": [
        "## Creación con elementos\n"
      ]
    },
    {
      "cell_type": "code",
      "metadata": {
        "id": "cujCOMAr4pIw"
      },
      "source": [
        "Sensores={'humedad':22}\n",
        "print(type(Sensores))\n",
        "print(Sensores)\n"
      ],
      "execution_count": null,
      "outputs": []
    },
    {
      "cell_type": "markdown",
      "metadata": {
        "id": "hZW1L5n_6GCZ"
      },
      "source": [
        "## Adicionando elementos al diccionario"
      ]
    },
    {
      "cell_type": "code",
      "metadata": {
        "id": "PwwbXLs75_wH"
      },
      "source": [
        "\n",
        "Sensores['temperatura']=35\n",
        "\n",
        "print(Sensores)\n"
      ],
      "execution_count": null,
      "outputs": []
    },
    {
      "cell_type": "markdown",
      "metadata": {
        "id": "wfZ_AVcyBb1G"
      },
      "source": [
        "## Accediendo a los elementos de la lista"
      ]
    },
    {
      "cell_type": "code",
      "metadata": {
        "id": "GAbHEDITBh0h"
      },
      "source": [
        "print(Sensores['humedad'])\n",
        "Sensores['temperatura']=30\n",
        "x=Sensores['temperatura']\n",
        "print(x)\n",
        "Sensores['temperatura']=10\n",
        "x=Sensores['temperatura']\n",
        "print(x)\n"
      ],
      "execution_count": null,
      "outputs": []
    },
    {
      "cell_type": "markdown",
      "metadata": {
        "id": "zuE86IcJDSbU"
      },
      "source": [
        "---\n",
        "FIN DEL LABORATORIO\n",
        "---"
      ]
    }
  ]
}